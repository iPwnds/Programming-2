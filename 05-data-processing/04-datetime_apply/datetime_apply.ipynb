{
 "cells": [
  {
   "cell_type": "markdown",
   "id": "7ea4d6c2",
   "metadata": {},
   "source": [
    "## Datetime"
   ]
  },
  {
   "cell_type": "markdown",
   "id": "660f49ae",
   "metadata": {},
   "source": [
    "First things, first. Let's import pandas."
   ]
  },
  {
   "cell_type": "code",
   "execution_count": 3,
   "id": "8cf9ecb5",
   "metadata": {},
   "outputs": [],
   "source": [
    "import pandas as pd"
   ]
  },
  {
   "cell_type": "markdown",
   "id": "1be251fb",
   "metadata": {},
   "source": [
    "The file \"Google_Stock_Price.csv\" contains daily historical stock price data for Google, focusing on the “Open”, \"High\", \"Low\" and \"Close\" prices recorded over several years. Let's store this data in a dataframe and inspect the first 10 rows."
   ]
  },
  {
   "cell_type": "code",
   "execution_count": 46,
   "id": "1e954442",
   "metadata": {},
   "outputs": [
    {
     "data": {
      "text/html": [
       "<div>\n",
       "<style scoped>\n",
       "    .dataframe tbody tr th:only-of-type {\n",
       "        vertical-align: middle;\n",
       "    }\n",
       "\n",
       "    .dataframe tbody tr th {\n",
       "        vertical-align: top;\n",
       "    }\n",
       "\n",
       "    .dataframe thead th {\n",
       "        text-align: right;\n",
       "    }\n",
       "</style>\n",
       "<table border=\"1\" class=\"dataframe\">\n",
       "  <thead>\n",
       "    <tr style=\"text-align: right;\">\n",
       "      <th></th>\n",
       "      <th>symbol</th>\n",
       "      <th>date</th>\n",
       "      <th>open</th>\n",
       "      <th>high</th>\n",
       "      <th>low</th>\n",
       "      <th>close</th>\n",
       "      <th>volume</th>\n",
       "      <th>adjclose</th>\n",
       "      <th>dividends</th>\n",
       "      <th>splits</th>\n",
       "    </tr>\n",
       "  </thead>\n",
       "  <tbody>\n",
       "    <tr>\n",
       "      <th>0</th>\n",
       "      <td>GOOG</td>\n",
       "      <td>2018-01-02</td>\n",
       "      <td>52.417000</td>\n",
       "      <td>53.347000</td>\n",
       "      <td>52.261501</td>\n",
       "      <td>53.250000</td>\n",
       "      <td>24752000</td>\n",
       "      <td>53.059353</td>\n",
       "      <td>0.0</td>\n",
       "      <td>0.0</td>\n",
       "    </tr>\n",
       "    <tr>\n",
       "      <th>1</th>\n",
       "      <td>GOOG</td>\n",
       "      <td>2018-01-03</td>\n",
       "      <td>53.215500</td>\n",
       "      <td>54.314499</td>\n",
       "      <td>53.160500</td>\n",
       "      <td>54.124001</td>\n",
       "      <td>28604000</td>\n",
       "      <td>53.930225</td>\n",
       "      <td>0.0</td>\n",
       "      <td>0.0</td>\n",
       "    </tr>\n",
       "    <tr>\n",
       "      <th>2</th>\n",
       "      <td>GOOG</td>\n",
       "      <td>2018-01-04</td>\n",
       "      <td>54.400002</td>\n",
       "      <td>54.678501</td>\n",
       "      <td>54.200100</td>\n",
       "      <td>54.320000</td>\n",
       "      <td>20092000</td>\n",
       "      <td>54.125519</td>\n",
       "      <td>0.0</td>\n",
       "      <td>0.0</td>\n",
       "    </tr>\n",
       "    <tr>\n",
       "      <th>3</th>\n",
       "      <td>GOOG</td>\n",
       "      <td>2018-01-05</td>\n",
       "      <td>54.700001</td>\n",
       "      <td>55.212502</td>\n",
       "      <td>54.599998</td>\n",
       "      <td>55.111500</td>\n",
       "      <td>25582000</td>\n",
       "      <td>54.914188</td>\n",
       "      <td>0.0</td>\n",
       "      <td>0.0</td>\n",
       "    </tr>\n",
       "    <tr>\n",
       "      <th>4</th>\n",
       "      <td>GOOG</td>\n",
       "      <td>2018-01-08</td>\n",
       "      <td>55.111500</td>\n",
       "      <td>55.563499</td>\n",
       "      <td>55.081001</td>\n",
       "      <td>55.347000</td>\n",
       "      <td>20952000</td>\n",
       "      <td>55.148846</td>\n",
       "      <td>0.0</td>\n",
       "      <td>0.0</td>\n",
       "    </tr>\n",
       "    <tr>\n",
       "      <th>5</th>\n",
       "      <td>GOOG</td>\n",
       "      <td>2018-01-09</td>\n",
       "      <td>55.470001</td>\n",
       "      <td>55.528500</td>\n",
       "      <td>55.061550</td>\n",
       "      <td>55.313000</td>\n",
       "      <td>18050000</td>\n",
       "      <td>55.114964</td>\n",
       "      <td>0.0</td>\n",
       "      <td>0.0</td>\n",
       "    </tr>\n",
       "    <tr>\n",
       "      <th>6</th>\n",
       "      <td>GOOG</td>\n",
       "      <td>2018-01-10</td>\n",
       "      <td>54.855000</td>\n",
       "      <td>55.230000</td>\n",
       "      <td>54.805500</td>\n",
       "      <td>55.130501</td>\n",
       "      <td>20856000</td>\n",
       "      <td>54.933121</td>\n",
       "      <td>0.0</td>\n",
       "      <td>0.0</td>\n",
       "    </tr>\n",
       "    <tr>\n",
       "      <th>7</th>\n",
       "      <td>GOOG</td>\n",
       "      <td>2018-01-11</td>\n",
       "      <td>55.314999</td>\n",
       "      <td>55.326248</td>\n",
       "      <td>54.979500</td>\n",
       "      <td>55.276001</td>\n",
       "      <td>19566000</td>\n",
       "      <td>55.078098</td>\n",
       "      <td>0.0</td>\n",
       "      <td>0.0</td>\n",
       "    </tr>\n",
       "    <tr>\n",
       "      <th>8</th>\n",
       "      <td>GOOG</td>\n",
       "      <td>2018-01-12</td>\n",
       "      <td>55.120499</td>\n",
       "      <td>56.214500</td>\n",
       "      <td>55.057499</td>\n",
       "      <td>56.112999</td>\n",
       "      <td>34410000</td>\n",
       "      <td>55.912102</td>\n",
       "      <td>0.0</td>\n",
       "      <td>0.0</td>\n",
       "    </tr>\n",
       "    <tr>\n",
       "      <th>9</th>\n",
       "      <td>GOOG</td>\n",
       "      <td>2018-01-16</td>\n",
       "      <td>56.625500</td>\n",
       "      <td>56.995499</td>\n",
       "      <td>55.891602</td>\n",
       "      <td>56.088001</td>\n",
       "      <td>31506000</td>\n",
       "      <td>55.887196</td>\n",
       "      <td>0.0</td>\n",
       "      <td>0.0</td>\n",
       "    </tr>\n",
       "  </tbody>\n",
       "</table>\n",
       "</div>"
      ],
      "text/plain": [
       "  symbol        date       open       high        low      close    volume  \\\n",
       "0   GOOG  2018-01-02  52.417000  53.347000  52.261501  53.250000  24752000   \n",
       "1   GOOG  2018-01-03  53.215500  54.314499  53.160500  54.124001  28604000   \n",
       "2   GOOG  2018-01-04  54.400002  54.678501  54.200100  54.320000  20092000   \n",
       "3   GOOG  2018-01-05  54.700001  55.212502  54.599998  55.111500  25582000   \n",
       "4   GOOG  2018-01-08  55.111500  55.563499  55.081001  55.347000  20952000   \n",
       "5   GOOG  2018-01-09  55.470001  55.528500  55.061550  55.313000  18050000   \n",
       "6   GOOG  2018-01-10  54.855000  55.230000  54.805500  55.130501  20856000   \n",
       "7   GOOG  2018-01-11  55.314999  55.326248  54.979500  55.276001  19566000   \n",
       "8   GOOG  2018-01-12  55.120499  56.214500  55.057499  56.112999  34410000   \n",
       "9   GOOG  2018-01-16  56.625500  56.995499  55.891602  56.088001  31506000   \n",
       "\n",
       "    adjclose  dividends  splits  \n",
       "0  53.059353        0.0     0.0  \n",
       "1  53.930225        0.0     0.0  \n",
       "2  54.125519        0.0     0.0  \n",
       "3  54.914188        0.0     0.0  \n",
       "4  55.148846        0.0     0.0  \n",
       "5  55.114964        0.0     0.0  \n",
       "6  54.933121        0.0     0.0  \n",
       "7  55.078098        0.0     0.0  \n",
       "8  55.912102        0.0     0.0  \n",
       "9  55.887196        0.0     0.0  "
      ]
     },
     "execution_count": 46,
     "metadata": {},
     "output_type": "execute_result"
    }
   ],
   "source": [
    "df = pd.read_csv(\"Google_Stock_Price.csv\")\n",
    "df.head(10)"
   ]
  },
  {
   "cell_type": "markdown",
   "id": "dad6745a",
   "metadata": {},
   "source": [
    "We see the dataframe contains 10 columns. Let's take a look at the data type of the date in these columns."
   ]
  },
  {
   "cell_type": "code",
   "execution_count": 5,
   "id": "c7ffefd7",
   "metadata": {},
   "outputs": [
    {
     "name": "stdout",
     "output_type": "stream",
     "text": [
      "<class 'pandas.core.frame.DataFrame'>\n",
      "RangeIndex: 1761 entries, 0 to 1760\n",
      "Data columns (total 10 columns):\n",
      " #   Column     Non-Null Count  Dtype  \n",
      "---  ------     --------------  -----  \n",
      " 0   symbol     1761 non-null   object \n",
      " 1   date       1761 non-null   object \n",
      " 2   open       1761 non-null   float64\n",
      " 3   high       1761 non-null   float64\n",
      " 4   low        1761 non-null   float64\n",
      " 5   close      1761 non-null   float64\n",
      " 6   volume     1761 non-null   int64  \n",
      " 7   adjclose   1761 non-null   float64\n",
      " 8   dividends  1761 non-null   float64\n",
      " 9   splits     1761 non-null   float64\n",
      "dtypes: float64(7), int64(1), object(2)\n",
      "memory usage: 137.7+ KB\n"
     ]
    }
   ],
   "source": [
    "df.info()"
   ]
  },
  {
   "cell_type": "markdown",
   "id": "0b58d4e2",
   "metadata": {},
   "source": [
    "We see 7 columns containing floats, one column containing integers and 2 columns containing objects. Pandas displays the data type of Python strings as 'object'. When reading from a csv file (text file), pandas converts the data to integers, floats or strings. This explains why the date-column is represented as a string. Storing dates a strings, limits their usability. Therefore, we want to convert them to datetime objects."
   ]
  },
  {
   "cell_type": "code",
   "execution_count": null,
   "id": "eda5f448",
   "metadata": {},
   "outputs": [
    {
     "data": {
      "text/plain": [
       "str"
      ]
     },
     "execution_count": 7,
     "metadata": {},
     "output_type": "execute_result"
    }
   ],
   "source": [
    "# Checking the type of the first date\n",
    "type(df[\"date\"][0])"
   ]
  },
  {
   "cell_type": "markdown",
   "id": "7fb9a178",
   "metadata": {},
   "source": [
    "### Converting dates to datetime objects"
   ]
  },
  {
   "cell_type": "code",
   "execution_count": 9,
   "id": "ebab9d07",
   "metadata": {},
   "outputs": [
    {
     "name": "stdout",
     "output_type": "stream",
     "text": [
      "<class 'pandas.core.frame.DataFrame'>\n",
      "RangeIndex: 1761 entries, 0 to 1760\n",
      "Data columns (total 10 columns):\n",
      " #   Column     Non-Null Count  Dtype         \n",
      "---  ------     --------------  -----         \n",
      " 0   symbol     1761 non-null   object        \n",
      " 1   date       1761 non-null   datetime64[ns]\n",
      " 2   open       1761 non-null   float64       \n",
      " 3   high       1761 non-null   float64       \n",
      " 4   low        1761 non-null   float64       \n",
      " 5   close      1761 non-null   float64       \n",
      " 6   volume     1761 non-null   int64         \n",
      " 7   adjclose   1761 non-null   float64       \n",
      " 8   dividends  1761 non-null   float64       \n",
      " 9   splits     1761 non-null   float64       \n",
      "dtypes: datetime64[ns](1), float64(7), int64(1), object(1)\n",
      "memory usage: 137.7+ KB\n"
     ]
    }
   ],
   "source": [
    "df[\"date\"] = pd.to_datetime(df[\"date\"])\n",
    "df.info()"
   ]
  },
  {
   "cell_type": "markdown",
   "id": "114ee222",
   "metadata": {},
   "source": [
    "Now we see the data type of the date-column has changed to \"datetime64[ns]\". The reason the data type is not simply 'datetime' is because 'datetime' is already taken by the standard Python library. Without going further into detail, just remember that they are not identical. "
   ]
  },
  {
   "cell_type": "code",
   "execution_count": 10,
   "id": "b5b6d58c",
   "metadata": {},
   "outputs": [
    {
     "data": {
      "text/plain": [
       "0      2018-01-02\n",
       "1      2018-01-03\n",
       "2      2018-01-04\n",
       "3      2018-01-05\n",
       "4      2018-01-08\n",
       "          ...    \n",
       "1756   2024-12-24\n",
       "1757   2024-12-26\n",
       "1758   2024-12-27\n",
       "1759   2024-12-30\n",
       "1760   2024-12-31\n",
       "Name: date, Length: 1761, dtype: datetime64[ns]"
      ]
     },
     "execution_count": 10,
     "metadata": {},
     "output_type": "execute_result"
    }
   ],
   "source": [
    "df[\"date\"]"
   ]
  },
  {
   "cell_type": "markdown",
   "id": "d7c3f231",
   "metadata": {},
   "source": [
    "As you know, there are different ways to write a date. \"01-05-2025\" for most Belgians means May first, so holiday! Let's convert this date to a datetime."
   ]
  },
  {
   "cell_type": "code",
   "execution_count": 15,
   "id": "e21e856b",
   "metadata": {},
   "outputs": [],
   "source": [
    "date = pd.to_datetime(\"01-05-2025\")"
   ]
  },
  {
   "cell_type": "markdown",
   "id": "09627849",
   "metadata": {},
   "source": [
    "Let's check the day, month and year."
   ]
  },
  {
   "cell_type": "code",
   "execution_count": 18,
   "id": "ef0b5d22",
   "metadata": {},
   "outputs": [
    {
     "name": "stdout",
     "output_type": "stream",
     "text": [
      "day:  5\n",
      "month:  1 month name: January\n",
      "year:  2025\n"
     ]
    }
   ],
   "source": [
    "print(\"day: \", date.day)\n",
    "print(\"month: \", date.month, \"month name:\", date.month_name())\n",
    "print(\"year: \", date.year)\n"
   ]
  },
  {
   "cell_type": "markdown",
   "id": "074baef9",
   "metadata": {},
   "source": [
    "Oops, that's not what we expected. Or is it? Luckily we can provide the [format](https://docs.python.org/3/library/datetime.html#strftime-and-strptime-behavior) argument when converting dates to datetime objects, to indicate how our date is formatted."
   ]
  },
  {
   "cell_type": "code",
   "execution_count": 22,
   "id": "07ede1a1",
   "metadata": {},
   "outputs": [
    {
     "name": "stdout",
     "output_type": "stream",
     "text": [
      "day:  1\n",
      "month:  5 month name: May\n",
      "year:  2025\n",
      "-----------------------------\n",
      "day:  1\n",
      "month:  5 month name: May\n",
      "year:  2025\n"
     ]
    }
   ],
   "source": [
    "date = pd.to_datetime(\"01-05-2025\", format=\"%d-%m-%Y\")\n",
    "print(\"day: \", date.day)\n",
    "print(\"month: \", date.month, \"month name:\", date.month_name())\n",
    "print(\"year: \", date.year)\n",
    "print(\"-----------------------------\")\n",
    "date = pd.to_datetime(\"01:05:25\", format=\"%d:%m:%y\")\n",
    "print(\"day: \", date.day)\n",
    "print(\"month: \", date.month, \"month name:\", date.month_name())\n",
    "print(\"year: \", date.year)\n"
   ]
  },
  {
   "cell_type": "markdown",
   "id": "e3a38f68",
   "metadata": {},
   "source": [
    "We can also substract dates to calculate the elapsed time between two data entries. The result is a pandas Timedelta."
   ]
  },
  {
   "cell_type": "code",
   "execution_count": null,
   "id": "5e76b934",
   "metadata": {},
   "outputs": [
    {
     "data": {
      "text/plain": [
       "Timedelta('9 days 00:00:00')"
      ]
     },
     "execution_count": 27,
     "metadata": {},
     "output_type": "execute_result"
    }
   ],
   "source": [
    "date2 = pd.to_datetime(\"10-05-2025\", dayfirst=True)\n",
    "time_passed = date2-date\n",
    "time_passed\n"
   ]
  },
  {
   "cell_type": "code",
   "execution_count": 33,
   "id": "f5b9f9ba",
   "metadata": {},
   "outputs": [
    {
     "name": "stdout",
     "output_type": "stream",
     "text": [
      "9 days 00:00:00\n",
      "9\n",
      "Components(days=9, hours=0, minutes=0, seconds=0, milliseconds=0, microseconds=0, nanoseconds=0)\n",
      "0\n"
     ]
    }
   ],
   "source": [
    "print(time_passed)\n",
    "print(time_passed.days)\n",
    "print(time_passed.components)\n",
    "print(time_passed.components.minutes)"
   ]
  },
  {
   "cell_type": "markdown",
   "id": "ee219039",
   "metadata": {},
   "source": [
    "Creating datetime objects from dataframe columns"
   ]
  },
  {
   "cell_type": "code",
   "execution_count": null,
   "id": "c331c092",
   "metadata": {},
   "outputs": [
    {
     "data": {
      "text/html": [
       "<div>\n",
       "<style scoped>\n",
       "    .dataframe tbody tr th:only-of-type {\n",
       "        vertical-align: middle;\n",
       "    }\n",
       "\n",
       "    .dataframe tbody tr th {\n",
       "        vertical-align: top;\n",
       "    }\n",
       "\n",
       "    .dataframe thead th {\n",
       "        text-align: right;\n",
       "    }\n",
       "</style>\n",
       "<table border=\"1\" class=\"dataframe\">\n",
       "  <thead>\n",
       "    <tr style=\"text-align: right;\">\n",
       "      <th></th>\n",
       "      <th>day</th>\n",
       "      <th>month</th>\n",
       "      <th>year</th>\n",
       "    </tr>\n",
       "  </thead>\n",
       "  <tbody>\n",
       "    <tr>\n",
       "      <th>0</th>\n",
       "      <td>01</td>\n",
       "      <td>01</td>\n",
       "      <td>2020</td>\n",
       "    </tr>\n",
       "    <tr>\n",
       "      <th>1</th>\n",
       "      <td>02</td>\n",
       "      <td>01</td>\n",
       "      <td>2020</td>\n",
       "    </tr>\n",
       "    <tr>\n",
       "      <th>2</th>\n",
       "      <td>03</td>\n",
       "      <td>01</td>\n",
       "      <td>2020</td>\n",
       "    </tr>\n",
       "  </tbody>\n",
       "</table>\n",
       "</div>"
      ],
      "text/plain": [
       "  day month  year\n",
       "0  01    01  2020\n",
       "1  02    01  2020\n",
       "2  03    01  2020"
      ]
     },
     "execution_count": 43,
     "metadata": {},
     "output_type": "execute_result"
    }
   ],
   "source": [
    "data = {\"day\": [\"01\", \"02\", \"03\"], \"month\": [\"01\",\"01\",\"01\"], \"year\": [\"2020\", \"2020\",\"2020\"]}\n",
    "date_df = pd.DataFrame(data)\n",
    "date_df"
   ]
  },
  {
   "cell_type": "code",
   "execution_count": null,
   "id": "959d950d",
   "metadata": {},
   "outputs": [
    {
     "data": {
      "text/html": [
       "<div>\n",
       "<style scoped>\n",
       "    .dataframe tbody tr th:only-of-type {\n",
       "        vertical-align: middle;\n",
       "    }\n",
       "\n",
       "    .dataframe tbody tr th {\n",
       "        vertical-align: top;\n",
       "    }\n",
       "\n",
       "    .dataframe thead th {\n",
       "        text-align: right;\n",
       "    }\n",
       "</style>\n",
       "<table border=\"1\" class=\"dataframe\">\n",
       "  <thead>\n",
       "    <tr style=\"text-align: right;\">\n",
       "      <th></th>\n",
       "      <th>day</th>\n",
       "      <th>month</th>\n",
       "      <th>year</th>\n",
       "      <th>date</th>\n",
       "    </tr>\n",
       "  </thead>\n",
       "  <tbody>\n",
       "    <tr>\n",
       "      <th>0</th>\n",
       "      <td>01</td>\n",
       "      <td>01</td>\n",
       "      <td>2020</td>\n",
       "      <td>2020-01-01</td>\n",
       "    </tr>\n",
       "    <tr>\n",
       "      <th>1</th>\n",
       "      <td>02</td>\n",
       "      <td>01</td>\n",
       "      <td>2020</td>\n",
       "      <td>2020-01-02</td>\n",
       "    </tr>\n",
       "    <tr>\n",
       "      <th>2</th>\n",
       "      <td>03</td>\n",
       "      <td>01</td>\n",
       "      <td>2020</td>\n",
       "      <td>2020-01-03</td>\n",
       "    </tr>\n",
       "  </tbody>\n",
       "</table>\n",
       "</div>"
      ],
      "text/plain": [
       "  day month  year       date\n",
       "0  01    01  2020 2020-01-01\n",
       "1  02    01  2020 2020-01-02\n",
       "2  03    01  2020 2020-01-03"
      ]
     },
     "execution_count": 44,
     "metadata": {},
     "output_type": "execute_result"
    }
   ],
   "source": [
    "date_df[\"date\"] = pd.to_datetime(date_df)\n",
    "date_df"
   ]
  },
  {
   "cell_type": "markdown",
   "id": "de609cc9",
   "metadata": {},
   "source": [
    "## Apply()"
   ]
  },
  {
   "cell_type": "markdown",
   "id": "67be447d",
   "metadata": {},
   "source": [
    "Pandas `.apply()` function allows to apply a function to each column (axis= 0 or 'index ) or to each row (axis=1 or 'columns') of a dataframe. \n",
    "\n",
    "The function below adds a column 'label' to our stock dataframe based on the opening, closing and highest rate."
   ]
  },
  {
   "cell_type": "code",
   "execution_count": null,
   "id": "4b3168ff",
   "metadata": {},
   "outputs": [
    {
     "data": {
      "text/html": [
       "<div>\n",
       "<style scoped>\n",
       "    .dataframe tbody tr th:only-of-type {\n",
       "        vertical-align: middle;\n",
       "    }\n",
       "\n",
       "    .dataframe tbody tr th {\n",
       "        vertical-align: top;\n",
       "    }\n",
       "\n",
       "    .dataframe thead th {\n",
       "        text-align: right;\n",
       "    }\n",
       "</style>\n",
       "<table border=\"1\" class=\"dataframe\">\n",
       "  <thead>\n",
       "    <tr style=\"text-align: right;\">\n",
       "      <th></th>\n",
       "      <th>symbol</th>\n",
       "      <th>date</th>\n",
       "      <th>open</th>\n",
       "      <th>high</th>\n",
       "      <th>low</th>\n",
       "      <th>close</th>\n",
       "      <th>volume</th>\n",
       "      <th>adjclose</th>\n",
       "      <th>dividends</th>\n",
       "      <th>splits</th>\n",
       "      <th>label</th>\n",
       "    </tr>\n",
       "  </thead>\n",
       "  <tbody>\n",
       "    <tr>\n",
       "      <th>0</th>\n",
       "      <td>GOOG</td>\n",
       "      <td>2018-01-02</td>\n",
       "      <td>52.417000</td>\n",
       "      <td>53.347000</td>\n",
       "      <td>52.261501</td>\n",
       "      <td>53.250000</td>\n",
       "      <td>24752000</td>\n",
       "      <td>53.059353</td>\n",
       "      <td>0.0</td>\n",
       "      <td>0.0</td>\n",
       "      <td>upwards</td>\n",
       "    </tr>\n",
       "    <tr>\n",
       "      <th>1</th>\n",
       "      <td>GOOG</td>\n",
       "      <td>2018-01-03</td>\n",
       "      <td>53.215500</td>\n",
       "      <td>54.314499</td>\n",
       "      <td>53.160500</td>\n",
       "      <td>54.124001</td>\n",
       "      <td>28604000</td>\n",
       "      <td>53.930225</td>\n",
       "      <td>0.0</td>\n",
       "      <td>0.0</td>\n",
       "      <td>upwards</td>\n",
       "    </tr>\n",
       "    <tr>\n",
       "      <th>2</th>\n",
       "      <td>GOOG</td>\n",
       "      <td>2018-01-04</td>\n",
       "      <td>54.400002</td>\n",
       "      <td>54.678501</td>\n",
       "      <td>54.200100</td>\n",
       "      <td>54.320000</td>\n",
       "      <td>20092000</td>\n",
       "      <td>54.125519</td>\n",
       "      <td>0.0</td>\n",
       "      <td>0.0</td>\n",
       "      <td>downwards</td>\n",
       "    </tr>\n",
       "    <tr>\n",
       "      <th>3</th>\n",
       "      <td>GOOG</td>\n",
       "      <td>2018-01-05</td>\n",
       "      <td>54.700001</td>\n",
       "      <td>55.212502</td>\n",
       "      <td>54.599998</td>\n",
       "      <td>55.111500</td>\n",
       "      <td>25582000</td>\n",
       "      <td>54.914188</td>\n",
       "      <td>0.0</td>\n",
       "      <td>0.0</td>\n",
       "      <td>upwards</td>\n",
       "    </tr>\n",
       "    <tr>\n",
       "      <th>4</th>\n",
       "      <td>GOOG</td>\n",
       "      <td>2018-01-08</td>\n",
       "      <td>55.111500</td>\n",
       "      <td>55.563499</td>\n",
       "      <td>55.081001</td>\n",
       "      <td>55.347000</td>\n",
       "      <td>20952000</td>\n",
       "      <td>55.148846</td>\n",
       "      <td>0.0</td>\n",
       "      <td>0.0</td>\n",
       "      <td>upwards</td>\n",
       "    </tr>\n",
       "    <tr>\n",
       "      <th>5</th>\n",
       "      <td>GOOG</td>\n",
       "      <td>2018-01-09</td>\n",
       "      <td>55.470001</td>\n",
       "      <td>55.528500</td>\n",
       "      <td>55.061550</td>\n",
       "      <td>55.313000</td>\n",
       "      <td>18050000</td>\n",
       "      <td>55.114964</td>\n",
       "      <td>0.0</td>\n",
       "      <td>0.0</td>\n",
       "      <td>downwards</td>\n",
       "    </tr>\n",
       "    <tr>\n",
       "      <th>6</th>\n",
       "      <td>GOOG</td>\n",
       "      <td>2018-01-10</td>\n",
       "      <td>54.855000</td>\n",
       "      <td>55.230000</td>\n",
       "      <td>54.805500</td>\n",
       "      <td>55.130501</td>\n",
       "      <td>20856000</td>\n",
       "      <td>54.933121</td>\n",
       "      <td>0.0</td>\n",
       "      <td>0.0</td>\n",
       "      <td>upwards</td>\n",
       "    </tr>\n",
       "    <tr>\n",
       "      <th>7</th>\n",
       "      <td>GOOG</td>\n",
       "      <td>2018-01-11</td>\n",
       "      <td>55.314999</td>\n",
       "      <td>55.326248</td>\n",
       "      <td>54.979500</td>\n",
       "      <td>55.276001</td>\n",
       "      <td>19566000</td>\n",
       "      <td>55.078098</td>\n",
       "      <td>0.0</td>\n",
       "      <td>0.0</td>\n",
       "      <td>downwards</td>\n",
       "    </tr>\n",
       "  </tbody>\n",
       "</table>\n",
       "</div>"
      ],
      "text/plain": [
       "  symbol        date       open       high        low      close    volume  \\\n",
       "0   GOOG  2018-01-02  52.417000  53.347000  52.261501  53.250000  24752000   \n",
       "1   GOOG  2018-01-03  53.215500  54.314499  53.160500  54.124001  28604000   \n",
       "2   GOOG  2018-01-04  54.400002  54.678501  54.200100  54.320000  20092000   \n",
       "3   GOOG  2018-01-05  54.700001  55.212502  54.599998  55.111500  25582000   \n",
       "4   GOOG  2018-01-08  55.111500  55.563499  55.081001  55.347000  20952000   \n",
       "5   GOOG  2018-01-09  55.470001  55.528500  55.061550  55.313000  18050000   \n",
       "6   GOOG  2018-01-10  54.855000  55.230000  54.805500  55.130501  20856000   \n",
       "7   GOOG  2018-01-11  55.314999  55.326248  54.979500  55.276001  19566000   \n",
       "\n",
       "    adjclose  dividends  splits      label  \n",
       "0  53.059353        0.0     0.0    upwards  \n",
       "1  53.930225        0.0     0.0    upwards  \n",
       "2  54.125519        0.0     0.0  downwards  \n",
       "3  54.914188        0.0     0.0    upwards  \n",
       "4  55.148846        0.0     0.0    upwards  \n",
       "5  55.114964        0.0     0.0  downwards  \n",
       "6  54.933121        0.0     0.0    upwards  \n",
       "7  55.078098        0.0     0.0  downwards  "
      ]
     },
     "execution_count": 52,
     "metadata": {},
     "output_type": "execute_result"
    }
   ],
   "source": [
    "def func(row):\n",
    "    if row[\"open\"] > row[\"close\"]:\n",
    "        if row[\"open\"] == row[\"high\"]:\n",
    "            return \"drop\"\n",
    "        else:\n",
    "            return \"downwards\"\n",
    "    elif row[\"open\"] < row[\"close\"]:\n",
    "        if row[\"close\"] ==  row[\"high\"]:\n",
    "            return \"rise\"\n",
    "        else:\n",
    "            return \"upwards\"\n",
    "    else:\n",
    "        return \"steady\"\n",
    "\n",
    "\n",
    "\n",
    "df[\"label\"] = df.apply(func, axis= 1)\n",
    "df.head(8)"
   ]
  },
  {
   "cell_type": "markdown",
   "id": "019168ad",
   "metadata": {},
   "source": [
    "#### Other examples"
   ]
  },
  {
   "cell_type": "markdown",
   "id": "8a4c6bc0",
   "metadata": {},
   "source": [
    "#### Square root"
   ]
  },
  {
   "cell_type": "markdown",
   "id": "6b0c94db",
   "metadata": {},
   "source": [
    "We create a dataframe sq containing 3 rows with the valus 4 and 9."
   ]
  },
  {
   "cell_type": "code",
   "execution_count": 53,
   "id": "9e012847",
   "metadata": {},
   "outputs": [
    {
     "data": {
      "text/html": [
       "<div>\n",
       "<style scoped>\n",
       "    .dataframe tbody tr th:only-of-type {\n",
       "        vertical-align: middle;\n",
       "    }\n",
       "\n",
       "    .dataframe tbody tr th {\n",
       "        vertical-align: top;\n",
       "    }\n",
       "\n",
       "    .dataframe thead th {\n",
       "        text-align: right;\n",
       "    }\n",
       "</style>\n",
       "<table border=\"1\" class=\"dataframe\">\n",
       "  <thead>\n",
       "    <tr style=\"text-align: right;\">\n",
       "      <th></th>\n",
       "      <th>A</th>\n",
       "      <th>B</th>\n",
       "    </tr>\n",
       "  </thead>\n",
       "  <tbody>\n",
       "    <tr>\n",
       "      <th>0</th>\n",
       "      <td>4</td>\n",
       "      <td>9</td>\n",
       "    </tr>\n",
       "    <tr>\n",
       "      <th>1</th>\n",
       "      <td>4</td>\n",
       "      <td>9</td>\n",
       "    </tr>\n",
       "    <tr>\n",
       "      <th>2</th>\n",
       "      <td>4</td>\n",
       "      <td>9</td>\n",
       "    </tr>\n",
       "  </tbody>\n",
       "</table>\n",
       "</div>"
      ],
      "text/plain": [
       "   A  B\n",
       "0  4  9\n",
       "1  4  9\n",
       "2  4  9"
      ]
     },
     "execution_count": 53,
     "metadata": {},
     "output_type": "execute_result"
    }
   ],
   "source": [
    "sq = pd.DataFrame([[4, 9]] * 3, columns=['A', 'B'])\n",
    "sq"
   ]
  },
  {
   "cell_type": "markdown",
   "id": "473a46c0",
   "metadata": {},
   "source": [
    "Let's create a function sqrt and apply it to the dataframe. We see the square root is taken from all values in the dataframe."
   ]
  },
  {
   "cell_type": "code",
   "execution_count": null,
   "id": "81fad9ed",
   "metadata": {},
   "outputs": [
    {
     "data": {
      "text/html": [
       "<div>\n",
       "<style scoped>\n",
       "    .dataframe tbody tr th:only-of-type {\n",
       "        vertical-align: middle;\n",
       "    }\n",
       "\n",
       "    .dataframe tbody tr th {\n",
       "        vertical-align: top;\n",
       "    }\n",
       "\n",
       "    .dataframe thead th {\n",
       "        text-align: right;\n",
       "    }\n",
       "</style>\n",
       "<table border=\"1\" class=\"dataframe\">\n",
       "  <thead>\n",
       "    <tr style=\"text-align: right;\">\n",
       "      <th></th>\n",
       "      <th>A</th>\n",
       "      <th>B</th>\n",
       "    </tr>\n",
       "  </thead>\n",
       "  <tbody>\n",
       "    <tr>\n",
       "      <th>0</th>\n",
       "      <td>2.0</td>\n",
       "      <td>3.0</td>\n",
       "    </tr>\n",
       "    <tr>\n",
       "      <th>1</th>\n",
       "      <td>2.0</td>\n",
       "      <td>3.0</td>\n",
       "    </tr>\n",
       "    <tr>\n",
       "      <th>2</th>\n",
       "      <td>2.0</td>\n",
       "      <td>3.0</td>\n",
       "    </tr>\n",
       "  </tbody>\n",
       "</table>\n",
       "</div>"
      ],
      "text/plain": [
       "     A    B\n",
       "0  2.0  3.0\n",
       "1  2.0  3.0\n",
       "2  2.0  3.0"
      ]
     },
     "execution_count": 56,
     "metadata": {},
     "output_type": "execute_result"
    }
   ],
   "source": [
    "def sqrt(x):\n",
    "    return x**(1/2)\n",
    "\n",
    "sq.apply(sqrt)"
   ]
  },
  {
   "cell_type": "markdown",
   "id": "608c77b4",
   "metadata": {},
   "source": [
    "#### Sum"
   ]
  },
  {
   "cell_type": "code",
   "execution_count": 60,
   "id": "8481cf55",
   "metadata": {},
   "outputs": [
    {
     "data": {
      "text/html": [
       "<div>\n",
       "<style scoped>\n",
       "    .dataframe tbody tr th:only-of-type {\n",
       "        vertical-align: middle;\n",
       "    }\n",
       "\n",
       "    .dataframe tbody tr th {\n",
       "        vertical-align: top;\n",
       "    }\n",
       "\n",
       "    .dataframe thead th {\n",
       "        text-align: right;\n",
       "    }\n",
       "</style>\n",
       "<table border=\"1\" class=\"dataframe\">\n",
       "  <thead>\n",
       "    <tr style=\"text-align: right;\">\n",
       "      <th></th>\n",
       "      <th>A</th>\n",
       "      <th>B</th>\n",
       "    </tr>\n",
       "  </thead>\n",
       "  <tbody>\n",
       "    <tr>\n",
       "      <th>0</th>\n",
       "      <td>4</td>\n",
       "      <td>9</td>\n",
       "    </tr>\n",
       "    <tr>\n",
       "      <th>1</th>\n",
       "      <td>4</td>\n",
       "      <td>9</td>\n",
       "    </tr>\n",
       "    <tr>\n",
       "      <th>2</th>\n",
       "      <td>4</td>\n",
       "      <td>9</td>\n",
       "    </tr>\n",
       "  </tbody>\n",
       "</table>\n",
       "</div>"
      ],
      "text/plain": [
       "   A  B\n",
       "0  4  9\n",
       "1  4  9\n",
       "2  4  9"
      ]
     },
     "execution_count": 60,
     "metadata": {},
     "output_type": "execute_result"
    }
   ],
   "source": [
    "sq"
   ]
  },
  {
   "cell_type": "markdown",
   "id": "e70b2739",
   "metadata": {},
   "source": [
    "We can also apply the existing function `sum` (taking the sum of an iterable) along axis = 1, meaning the function is applied to each row. Therefore the row will be the input variable (y) of the function `sum`."
   ]
  },
  {
   "cell_type": "code",
   "execution_count": null,
   "id": "7c0f7ab4",
   "metadata": {},
   "outputs": [
    {
     "data": {
      "text/plain": [
       "0    13\n",
       "1    13\n",
       "2    13\n",
       "dtype: int64"
      ]
     },
     "execution_count": 61,
     "metadata": {},
     "output_type": "execute_result"
    }
   ],
   "source": [
    "sq.apply(sum, axis=1)"
   ]
  },
  {
   "cell_type": "markdown",
   "id": "2c3044f8",
   "metadata": {},
   "source": [
    "This time we apply `sum` along axis = 0, meaning the function is applied to each column. The result will be the sum of every column."
   ]
  },
  {
   "cell_type": "code",
   "execution_count": null,
   "id": "1d2443ad",
   "metadata": {},
   "outputs": [
    {
     "data": {
      "text/plain": [
       "A    12\n",
       "B    27\n",
       "dtype: int64"
      ]
     },
     "execution_count": 62,
     "metadata": {},
     "output_type": "execute_result"
    }
   ],
   "source": [
    "sq.apply(sum, axis=0)"
   ]
  }
 ],
 "metadata": {
  "kernelspec": {
   "display_name": "Python 3",
   "language": "python",
   "name": "python3"
  },
  "language_info": {
   "codemirror_mode": {
    "name": "ipython",
    "version": 3
   },
   "file_extension": ".py",
   "mimetype": "text/x-python",
   "name": "python",
   "nbconvert_exporter": "python",
   "pygments_lexer": "ipython3",
   "version": "3.12.0"
  }
 },
 "nbformat": 4,
 "nbformat_minor": 5
}
