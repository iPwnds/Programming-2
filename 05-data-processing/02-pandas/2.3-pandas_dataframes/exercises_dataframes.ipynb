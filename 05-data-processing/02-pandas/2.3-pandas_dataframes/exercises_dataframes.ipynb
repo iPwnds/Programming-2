{
 "cells": [
  {
   "cell_type": "markdown",
   "metadata": {},
   "source": [
    "# Exercises dataframes\n"
   ]
  },
  {
   "cell_type": "code",
   "execution_count": null,
   "metadata": {},
   "outputs": [],
   "source": [
    "#Import the necessary packages"
   ]
  },
  {
   "cell_type": "markdown",
   "metadata": {},
   "source": [
    "## 1. Soccer"
   ]
  },
  {
   "cell_type": "markdown",
   "metadata": {},
   "source": [
    "Create a Pandas dataframe containing the `soccer_data`. Every list contains following data: \n",
    "- Player name\n",
    "- Position\n",
    "- Club\n",
    "- Goals scored\n",
    "- Age\n",
    "\n",
    "Give the columns of the DataFrame appropriate names."
   ]
  },
  {
   "cell_type": "code",
   "execution_count": null,
   "metadata": {},
   "outputs": [],
   "source": [
    "soccer_data = [\n",
    "    ['Lionel Messi', 'Forward', 'Inter Miami', 30, 12],\n",
    "    ['Cristiano Ronaldo', 'Forward', 'Al Nassr', 25, 10],\n",
    "    ['Neymar Jr', 'Forward', 'Al Hilal', 20, 18],\n",
    "    ['Kylian Mbappe', 'Forward', 'PSG', 35, 15],\n",
    "    ['Kevin De Bruyne', 'Midfielder', 'Manchester City', 15, 20],\n",
    "    ['Mohamed Salah', 'Forward', 'Liverpool', 28, 14],\n",
    "    ['Robert Lewandowski', 'Forward', 'Barcelona', 33, 9],\n",
    "    ['Karim Benzema', 'Forward', 'Real Madrid', 27, 11],\n",
    "    ['Luka Modric', 'Midfielder', 'Real Madrid', 10, 22],\n",
    "    ['Erling Haaland', 'Forward', 'Manchester City', 40, 8]\n",
    "]\n"
   ]
  },
  {
   "cell_type": "code",
   "execution_count": null,
   "metadata": {},
   "outputs": [],
   "source": [
    "# Create dataframe\n",
    "\n"
   ]
  },
  {
   "cell_type": "markdown",
   "metadata": {},
   "source": [
    "**Renaming column** \\\n",
    "It seems, we made a mistake. Lionel Messi isn't 12 years old and Kevin De Bruyne isn't 20 either. \\\n",
    "Change the last column's name to \"Assists\" instead of \"Age\". Ensure the dataframe itself is affected."
   ]
  },
  {
   "cell_type": "code",
   "execution_count": null,
   "metadata": {},
   "outputs": [],
   "source": [
    "# Renaming column\n"
   ]
  },
  {
   "cell_type": "markdown",
   "metadata": {},
   "source": [
    "**Change the index labels** to player1, player2 etc."
   ]
  },
  {
   "cell_type": "code",
   "execution_count": null,
   "metadata": {},
   "outputs": [],
   "source": [
    "# Index labels\n"
   ]
  },
  {
   "cell_type": "markdown",
   "metadata": {},
   "source": [
    "## 2. More soccer"
   ]
  },
  {
   "cell_type": "markdown",
   "metadata": {},
   "source": [
    "This time, the soccer data is stored in a dictionary containing lists. The values of the dictionary, are lists containing the data of a column, the keys are the column names. Create a dataframe using the `soccer_data` below."
   ]
  },
  {
   "cell_type": "code",
   "execution_count": null,
   "metadata": {},
   "outputs": [],
   "source": [
    "soccer_data = {\n",
    "    'Player Name': [\n",
    "        'Lionel Messi', 'Cristiano Ronaldo', 'Neymar Jr', 'Kylian Mbappe', 'Kevin De Bruyne', \n",
    "        'Mohamed Salah', 'Robert Lewandowski', 'Karim Benzema', 'Luka Modric', 'Erling Haaland'\n",
    "    ],\n",
    "    'Player Number': [10, 7, 11, 9, 17, 12, 8, 19, 3, 2],\n",
    "    'Position': [\n",
    "        'Forward', 'Forward', 'Forward', 'Forward', 'Midfielder', \n",
    "        'Forward', 'Forward', 'Forward', 'Midfielder', 'Forward'\n",
    "    ],\n",
    "    'Club': [\n",
    "        'Inter Miami', 'Al Nassr', 'Al Hilal', 'PSG', 'Manchester City', \n",
    "        'Liverpool', 'Barcelona', 'Real Madrid', 'Real Madrid', 'Manchester City'\n",
    "    ],\n",
    "    'Goals Scored (Season)': [30, 25, 20, 35, 15, 28, 33, 27, 10, 40],\n",
    "    'Assists (Season)': [12, 10, 18, 15, 20, 14, 9, 11, 22, 8]\n",
    "}\n"
   ]
  },
  {
   "cell_type": "code",
   "execution_count": null,
   "metadata": {},
   "outputs": [],
   "source": [
    "# Create DataFrame\n",
    "\n"
   ]
  },
  {
   "cell_type": "markdown",
   "metadata": {},
   "source": [
    "You see we have an extra column `Player Number` containing the player's shirt numbers. Use this data to set the index labels. Doing so, you see two dark grey rows on top containing names. Remove the index column name.\n",
    "\n",
    "❓ Is it a good idea to use the players's numbers as index labels? Why (not)?"
   ]
  },
  {
   "cell_type": "code",
   "execution_count": null,
   "metadata": {},
   "outputs": [],
   "source": [
    "# Index labels\n",
    "\n"
   ]
  },
  {
   "cell_type": "markdown",
   "metadata": {},
   "source": [
    "**Indexing** \n",
    "- Display the club of Kevin De Bruyne\n",
    "- Change the club of Kevin De Bruyne to \"Red Devils\"\n",
    "- Display the Player Name column\n",
    "- Display the data of the player with shirt number 7, using both integer and label position\n"
   ]
  },
  {
   "cell_type": "code",
   "execution_count": null,
   "metadata": {},
   "outputs": [],
   "source": [
    "#Indexing\n"
   ]
  },
  {
   "cell_type": "markdown",
   "metadata": {},
   "source": [
    "**Slicing** \n",
    "- Display the players with shirt number 10, 7 and 11 using both integer and label position\n",
    "- Display the players with at least 10 assists\n",
    "- Display all midfield players\n",
    "- Display the Player Name, Position and Club of Karim, Luka and Erling"
   ]
  },
  {
   "cell_type": "code",
   "execution_count": null,
   "metadata": {},
   "outputs": [],
   "source": [
    "#Slicing\n"
   ]
  },
  {
   "cell_type": "markdown",
   "metadata": {},
   "source": [
    "\n",
    "## 3. Employees\n",
    "In this lab exercise, you will explore a dataset containing information about employees in a company using Pandas. You will perform various data manipulation and analysis tasks to gain insights into the employee data.\n",
    "\n",
    "**Dataset:**\n",
    "You are provided with a dictionary `employee_data` containing employee information:"
   ]
  },
  {
   "cell_type": "code",
   "execution_count": null,
   "metadata": {},
   "outputs": [],
   "source": [
    "employee_data = {\n",
    "    'EmployeeID': [\n",
    "        101, 102, 103, 104, 105, 106, 107, 108, 109, 110,\n",
    "        111, 112, 113, 114, 115, 116, 117, 118, 119, 120,\n",
    "        121, 122, 123, 124, 125, 126, 127, 128, 129, 130\n",
    "    ],\n",
    "    'Name': [\n",
    "        'Alice', 'Bob', 'Charlie', 'David', 'Emma', 'Frank', 'Grace', 'Hannah', 'Ian', 'Jack',\n",
    "        'Katherine', 'Leo', 'Mia', 'Nathan', 'Olivia', 'Paul', 'Quinn', 'Rachel', 'Samuel', 'Tina',\n",
    "        'Uma', 'Victor', 'Wendy', 'Xander', 'Yasmine', 'Zack', 'Adam', 'Bella', 'Chris', 'Diana'\n",
    "    ],\n",
    "    'Department': [\n",
    "        'HR', 'IT', 'Finance', 'Marketing', 'Sales', 'IT', 'HR', 'Finance', 'Marketing', 'Sales',\n",
    "        'IT', 'HR', 'Finance', 'Marketing', 'Sales', 'HR', 'IT', 'Finance', 'Marketing', 'Sales',\n",
    "        'IT', 'HR', 'Finance', 'Marketing', 'Sales', 'HR', 'IT', 'Finance', 'Marketing', 'Sales'\n",
    "    ],\n",
    "    'Salary': [\n",
    "        60000, 75000, 80000, 70000, 65000, 72000, 68000, 81000, 69000, 66000,\n",
    "        77000, 64000, 85000, 73000, 67000, 61000, 79000, 82000, 74000, 66000,\n",
    "        78000, 62000, 83000, 76000, 71000, 63000, 80000, 75000, 87000, 72000\n",
    "    ]\n",
    "}\n"
   ]
  },
  {
   "cell_type": "markdown",
   "metadata": {},
   "source": [
    "**DataFrame Creation:**\n",
    "- Create a Pandas DataFrame named 'employees' from the provided dictionary 'employee_data'.\n",
    "- Use their employee number as row index. Remove the row index column name.\n",
    "\n",
    "**Data Exploration:**\n",
    "- Display the first 3 rows of the DataFrame to get an overview of the data. \n",
    "- Check the summary statistics for the 'Salary' column. \n",
    "- Determine the number of employees in each department.\n",
    "\n",
    "**Data Analysis:**\n",
    "- Display the min, max, mean and median of the 'Salary' column.\n",
    "- Identify the employee(s) with the highest salary and their details.\n",
    "- Determine the department with the lowest average salary.\n",
    "- Add a new column 'Salary Increase' to the DataFrame, where each employee's salary is increased by 10%."
   ]
  },
  {
   "cell_type": "code",
   "execution_count": null,
   "metadata": {},
   "outputs": [],
   "source": [
    "# Your code"
   ]
  },
  {
   "cell_type": "markdown",
   "metadata": {},
   "source": [
    "## 4. Sales data"
   ]
  },
  {
   "cell_type": "code",
   "execution_count": null,
   "metadata": {},
   "outputs": [],
   "source": [
    "import numpy as np\n",
    "\n",
    "sales_data = {\n",
    "    'Product_ID': list(range(101, 151)),\n",
    "    'Product_Name': [\n",
    "        'Laptop', 'Smartphone', 'Tablet', 'Headphones', 'Smartwatch', 'Gaming Console', 'Keyboard', 'Mouse', \n",
    "        'Monitor', 'Printer', 'Speaker', 'Camera', 'External Hard Drive', 'Router', 'Microphone',\n",
    "        'Smart TV', 'Projector', 'Power Bank', 'VR Headset', 'Graphics Card', 'Processor', 'RAM', \n",
    "        'Motherboard', 'SSD', 'HDD', 'USB Flash Drive', 'Cooling Pad', 'Tripod', 'Streaming Device', \n",
    "        'E-Reader', 'Wireless Charger', 'Portable Speaker', 'Game Controller', 'Webcam', 'Smart Light', \n",
    "        'Smart Doorbell', 'Fitness Band', 'Drone', 'Bluetooth Adapter', 'Drawing Tablet', 'Coffee Maker', \n",
    "        'Air Purifier', 'Robot Vacuum', 'Electric Kettle', 'Blender', 'Toaster', 'Smart Refrigerator', \n",
    "        'Washing Machine', 'Oven', 'Microwave'\n",
    "    ],\n",
    "    'Category': [\n",
    "        'Electronics', 'Electronics', 'Electronics', 'Accessories', 'Electronics', 'Gaming', 'Accessories', \n",
    "        'Accessories', 'Electronics', 'Office Supplies', 'Audio', 'Photography', 'Storage', 'Networking', \n",
    "        'Audio', 'Electronics', 'Office Supplies', 'Accessories', 'Gaming', 'Computer Components', \n",
    "        'Computer Components', 'Computer Components', 'Computer Components', 'Storage', 'Storage', \n",
    "        'Accessories', 'Accessories', 'Photography', 'Streaming', 'Electronics', 'Accessories', 'Audio', \n",
    "        'Gaming', 'Accessories', 'Smart Home', 'Smart Home', 'Wearable', 'Drones', 'Accessories', \n",
    "        'Accessories', 'Home Appliances', 'Home Appliances', 'Home Appliances', 'Home Appliances', \n",
    "        'Home Appliances', 'Home Appliances', 'Home Appliances', 'Home Appliances', 'Home Appliances'\n",
    "    ],\n",
    "    'Price': [\n",
    "        1200, 800, 400, 100, 300, 500, 50, 40, 250, 150, 200, 700, 120, 90, 60, 1000, 850, 35, \n",
    "        600, 400, 300, 150, 200, 180, 130, 20, 45, 100, 120, 250, 75, 220, 55, 90, 200, 180, \n",
    "        150, 300, 110, 150, 180, 220, 100, 120, 400, 500, 450, 350, 320\n",
    "    ],\n",
    "    'Quantity_Sold': [\n",
    "        50, 100, 80, 200, 120, 75, 95, np.nan, 60, 110, 130, 40, np.nan, 85, 90, 55, 30, 200, \n",
    "        35, np.nan, 65, 45, 100, 70, 85, 150, np.nan, 90, 50, 200, 105, 65, 140, 55, 60, 70, \n",
    "        np.nan, 30, 45, 90, 35, 60, 95, np.nan, 110, 75, 55, 80, 100\n",
    "    ],\n",
    "    'Brand': [\n",
    "        'Dell', 'Apple', 'Samsung', 'Sony', 'Fitbit', 'Microsoft', 'Logitech', 'HP', 'LG', 'Canon', \n",
    "        'JBL', 'Nikon', 'Seagate', 'TP-Link', 'Blue Yeti', 'Samsung', 'Epson', 'Anker', 'Oculus', \n",
    "        'NVIDIA', 'Intel', 'Corsair', 'ASUS', 'Kingston', 'Western Digital', 'SanDisk', 'Cooler Master', \n",
    "        'Manfrotto', 'Roku', 'Amazon', 'Belkin', 'Bose', 'Xbox', 'Logitech', 'Philips', 'Ring', \n",
    "        'Garmin', 'DJI', 'TP-Link', 'Wacom', 'Keurig', 'Dyson', 'iRobot', 'Breville', 'Ninja', 'Cuisinart', \n",
    "        'Samsung', 'LG', 'Bosch', 'Panasonic'\n",
    "    ],\n",
    "    'Release_Year': [\n",
    "        2021, 2020, 2019, 2022, 2021, 2020, 2018, 2017, 2019, 2022, 2021, 2020, 2019, 2021, 2018, \n",
    "        2022, 2021, 2020, 2023, 2021, 2019, 2020, 2018, 2022, 2023, 2017, 2018, 2019, 2020, 2021, \n",
    "        2018, 2019, 2022, 2020, 2021, 2023, 2022, 2018, 2020, 2019, 2021, 2023, 2020, 2022, 2021, \n",
    "        2019, 2018, 2020, 2023\n",
    "    ],\n",
    "    'Ratings': [\n",
    "        4.5, 4.7, 4.3, 4.2, 4.6, 4.8, 4.0, np.nan, 4.1, 4.3, 4.6, 4.7, np.nan, 4.5, 4.0, \n",
    "        4.4, 4.1, 3.9, 4.9, np.nan, 4.2, 4.0, 4.3, 4.6, 4.8, 4.1, np.nan, 4.5, 4.2, 4.7, \n",
    "        4.0, 4.3, 4.1, 4.6, 4.2, 4.8, 4.9, np.nan, 4.0, 4.1, 4.3, 4.6, 4.2, 4.5, np.nan, \n",
    "        4.7, 4.3, 4.2, 4.8\n",
    "    ]\n",
    "}\n"
   ]
  },
  {
   "cell_type": "markdown",
   "metadata": {},
   "source": [
    "**DataFrame Creation:**\n",
    "- Create a Pandas DataFrame named 'sales' from the provided dictionary 'sales_data'.\n",
    "    <details>\n",
    "    <summary> error? </summary>\n",
    "    When trying to create a DataFrame, you get an error. The values of the dictionary are not of equal length... Meaning, the last entry/entries is/are incomplete. Omit these entries to create the DataFrame.\n",
    "    </details>\n",
    "\n",
    "- Use the Product ID's as index and remove the index heading.\n",
    "- Set all NaN values in the \"Quantity_Sold\" column to 0.\n",
    "- Delete rows containing NaN values except if they only occur in the ratings column. Check the documentation of the known method to delete rows containing NaN's. \n",
    "- Show the first 5 rows (without using slicing) and display information about the DataFrame.\n",
    "- Show the dimensions of the DataFrame\n",
    "\n",
    "**Indexing and Slicing:**\n",
    "- Access the last 2 rows and the 'Product_Name' and 'Price' columns using both label-based and positional-based indexing.\n",
    "- Extract the data for products with product id's 105 to 118 and all columns using integer-based indexing.\n",
    "    - Don't start counting the rows. It might be useful to reset de indices back to position integers. We still want to keep the Product_ID in our DataFrame, make a new column for this data with an appropriate name.\n",
    "- **Boolean filtering:** Filter the data to include only products priced below 100."
   ]
  },
  {
   "cell_type": "code",
   "execution_count": null,
   "metadata": {},
   "outputs": [],
   "source": [
    "# Your code"
   ]
  },
  {
   "cell_type": "markdown",
   "metadata": {},
   "source": [
    "### 4. Sales data part 2"
   ]
  },
  {
   "cell_type": "markdown",
   "metadata": {},
   "source": [
    "* Read in the additional sales data, stored in the csv file \"sales_data.csv\" and create a new DataFrame.\n",
    "* Inspect the file before reading in the data!\n",
    "* Combine the first sales DataFrame with this new DataFrame in a DataFrame `all_sales`. Ensure both DataFrames are combined correctly. The resulting DataFrame should be of shape 149x8.\n",
    "* Sort the data from eldest to newest\n",
    "* Reset the indices to their integer positions, without adding an extra column with the current index label\n",
    "* Write the resulting DataFrame to a new csv file \"all_sales.csv\"."
   ]
  },
  {
   "cell_type": "code",
   "execution_count": null,
   "metadata": {},
   "outputs": [],
   "source": [
    "# Sales data part 2\n",
    "\n",
    "# Your code"
   ]
  },
  {
   "cell_type": "markdown",
   "metadata": {},
   "source": [
    "#### About the dataset\n",
    "\n",
    "Did you notice something odd?\n",
    "<details>\n",
    "  <summary>No</summary>\n",
    "  Take a closer look!\n",
    "</details>\n",
    "\n",
    "<details>\n",
    "  <summary>Yes</summary>\n",
    "  An Electric Kettle in the category Photography? An Apple Blender in the category Audio? This seems rather odd. We have to admit, we asked ChatGPT to generate 100 additional entries of sample data in 'csv' format. Surprisingly we got a generated csv as response, easy peasy right? Yes but no...\n",
    "\n",
    "  ChatGPT knew some context (programming in Python) when generating the csv. Let's take a look at the analysis of the reasoning of ChatGPT. What do you see?\n",
    "\n",
    "  ![GenAI analysis reasoning](analysis.png)\n",
    "\n",
    "  The dataset is generated using Python code and relies on numpy random. Therefore, there is no correlation between the Product, Product ID, Category, Brand etc. \n",
    "\n",
    "  The moral of the story: GenAI results might seem good or qualitative, but take a closer look, be sceptic and check out the reasoning to confirm the quality.\n",
    "\n",
    "\n",
    "</details>"
   ]
  }
 ],
 "metadata": {
  "kernelspec": {
   "display_name": "Python 3",
   "language": "python",
   "name": "python3"
  },
  "language_info": {
   "codemirror_mode": {
    "name": "ipython",
    "version": 3
   },
   "file_extension": ".py",
   "mimetype": "text/x-python",
   "name": "python",
   "nbconvert_exporter": "python",
   "pygments_lexer": "ipython3",
   "version": "3.12.0"
  }
 },
 "nbformat": 4,
 "nbformat_minor": 2
}
