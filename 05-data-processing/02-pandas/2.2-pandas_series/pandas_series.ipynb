{
 "cells": [
  {
   "cell_type": "markdown",
   "metadata": {},
   "source": [
    "# Pandas Series"
   ]
  },
  {
   "cell_type": "markdown",
   "metadata": {},
   "source": [
    "In this notebook you find an introduction to Pandas Series. Complete the tasks in the code cells below."
   ]
  },
  {
   "cell_type": "markdown",
   "metadata": {},
   "source": [
    "First things first, we should **import pandas**."
   ]
  },
  {
   "cell_type": "code",
   "execution_count": null,
   "metadata": {},
   "outputs": [],
   "source": [
    "import pandas as pd  #pd commonly used abbreviation for pandas"
   ]
  },
  {
   "cell_type": "markdown",
   "metadata": {},
   "source": [
    "## Pandas Series"
   ]
  },
  {
   "cell_type": "markdown",
   "metadata": {
    "vscode": {
     "languageId": "plaintext"
    }
   },
   "source": [
    "A Pandas Series is a one-dimensional array-like object, which can hold data of any type (int, float, string, etc...). The data of a Pandas Series is labeled, meaning each element has an index. If no index is provided, they are labeled with their index number (starting from 0). \\\n",
    "\\\n",
    "Pandas Series can be created from lists, arrays, dictionaries, and existing Series objects and are a building block for the Pandas DataFrame. You can compare a Pandas Series with a single column of a database table. \n",
    "\n",
    "**Important** \n",
    "* The vast majority of Pandas methods **produce new objects**, leaving the input data untouched. \n",
    "* Immutability is favored where sensible.\n",
    "\n"
   ]
  },
  {
   "cell_type": "markdown",
   "metadata": {},
   "source": [
    "## Creating a Pandas Series from a list"
   ]
  },
  {
   "cell_type": "code",
   "execution_count": null,
   "metadata": {},
   "outputs": [],
   "source": [
    "data = [\"Mickey\", \"Minnie\", \"Pluto\", \"Donald Duck\"]\n",
    "series_from_list = pd.Series(data)\n",
    "#series_from_list "
   ]
  },
  {
   "cell_type": "markdown",
   "metadata": {},
   "source": [
    "* If no index labels are specified, they are labeled with their index numbers (starting from 0).\n",
    "* As you notice, assigning a Series to a variable will not show the Series in the output field. You need to provide the Series variable on a seperate line to do so. Uncomment the third line."
   ]
  },
  {
   "cell_type": "markdown",
   "metadata": {},
   "source": [
    "### Creating a Series with a custom index"
   ]
  },
  {
   "cell_type": "markdown",
   "metadata": {},
   "source": [
    "**🧰 Task**\n",
    "* Create a list `data` containing several names\n",
    "* Create a list `idx` of the same length as `data` containing \"Participant1, Participant2, etc.\"\n",
    "* Create the Series `series_custom_index` as we did above, but pass an extra argument `index = index`\n",
    "* What happens when you `print(series_custom_index)`?"
   ]
  },
  {
   "cell_type": "code",
   "execution_count": null,
   "metadata": {},
   "outputs": [],
   "source": [
    "# Your code"
   ]
  },
  {
   "cell_type": "markdown",
   "metadata": {},
   "source": [
    "### Changing the indices\n",
    "Say we forgot to use custom indices and now the index is number based... Luckily we can still change the indices! \\\n",
    "\\\n",
    "First let's make a copy of `series_from_list`."
   ]
  },
  {
   "cell_type": "markdown",
   "metadata": {},
   "source": [
    "#### Making a copy"
   ]
  },
  {
   "cell_type": "code",
   "execution_count": null,
   "metadata": {},
   "outputs": [],
   "source": [
    "print(\"Original series_from_list:\")\n",
    "print(series_from_list)\n",
    "copy = pd.Series(series_from_list)\n",
    "copy[1] = \"Winnie\" #Assign Winnie to index 1\n",
    "print(\"series_from_list:\")\n",
    "print(series_from_list)\n",
    "print(\"copy:\")\n",
    "print(copy)\n"
   ]
  },
  {
   "cell_type": "markdown",
   "metadata": {},
   "source": [
    "Well that did not work... What we did was assigning our `series_from_list` Serie to a new variable name `copy`. This way both `series_from_list` and `copy` refer to the same Series. Assigning Winnie to the second element of `copy` means `series_from_list` changes as well.\n",
    "\n",
    "In order to create a copy of a Series, we need to make a deep copy."
   ]
  },
  {
   "cell_type": "code",
   "execution_count": null,
   "metadata": {},
   "outputs": [],
   "source": [
    "new_copy = pd.Series.copy(series_from_list, deep=True)\n",
    "new_copy[1] = \"Timon\"\n",
    "print(\"Original:\")\n",
    "print(series_from_list)\n",
    "print(\"New copy\")\n",
    "print(new_copy)"
   ]
  },
  {
   "cell_type": "markdown",
   "metadata": {},
   "source": [
    "#### \n",
    "Now we have a copy, we can custumize the index.\n",
    "Say we want to change the indices to figure1, figure2 etc."
   ]
  },
  {
   "cell_type": "code",
   "execution_count": null,
   "metadata": {},
   "outputs": [],
   "source": [
    "idx = [\"figure1\", \"figure2\", \"figure3\", \"figure4\"]\n",
    "new_copy.index = idx\n",
    "new_copy"
   ]
  },
  {
   "cell_type": "markdown",
   "metadata": {},
   "source": [
    "## Creating a Pandas Series from a dictionary"
   ]
  },
  {
   "cell_type": "markdown",
   "metadata": {},
   "source": [
    "Given a dictionary `data`, with as keys the letters of the alphabet and as values their corresponding integer, starting at 1 (a:1, b:2 etc.), we create a Series `series_from_dict` from the dictionary `data` and display the Series.\n",
    "\n"
   ]
  },
  {
   "cell_type": "code",
   "execution_count": null,
   "metadata": {},
   "outputs": [],
   "source": [
    "data = {\"a\": 1, \"b\": 2, \"c\": 3, \"d\":4}\n",
    "series_from_dict = pd.Series(data)\n",
    "series_from_dict"
   ]
  },
  {
   "cell_type": "markdown",
   "metadata": {},
   "source": [
    "**🧰Task** \n",
    "* Create a Series `my_series` from a dictionary with keys London, Tripoli, Cairo and their values 10, 100, 10 respectively. Do this without storing the dictionary in a variable."
   ]
  },
  {
   "cell_type": "code",
   "execution_count": null,
   "metadata": {},
   "outputs": [],
   "source": [
    "# Your code"
   ]
  },
  {
   "cell_type": "markdown",
   "metadata": {},
   "source": [
    "Display the Series. You see the index labels of the Series are set to: 'London', 'Tripoli', 'Cairo'\n",
    "and the values of the Series: 10, 100, 10."
   ]
  },
  {
   "cell_type": "code",
   "execution_count": null,
   "metadata": {},
   "outputs": [],
   "source": [
    "# Displaying the Series\n",
    "my_series"
   ]
  },
  {
   "cell_type": "markdown",
   "metadata": {},
   "source": [
    "### Creating a Series with specified indices\n",
    "\n",
    "Creating a new Series from `my_series`, we can specify which data we want to include based on indices. `lc_series` only contains the data from London and Cairo."
   ]
  },
  {
   "cell_type": "code",
   "execution_count": null,
   "metadata": {},
   "outputs": [],
   "source": [
    "lc_series = pd.Series(my_series, index=[\"London\", \"Cairo\"])\n",
    "lc_series"
   ]
  },
  {
   "cell_type": "markdown",
   "metadata": {},
   "source": [
    "### Creating a Series with values of different type \n",
    "\n",
    "**🧰Task** Find out if it is possible to create a Pandas Series with both integers and strings as values."
   ]
  },
  {
   "cell_type": "code",
   "execution_count": null,
   "metadata": {},
   "outputs": [],
   "source": [
    "# Your code"
   ]
  },
  {
   "cell_type": "markdown",
   "metadata": {},
   "source": [
    "### 💼 Make exercise 1. train delay part 1"
   ]
  },
  {
   "cell_type": "markdown",
   "metadata": {},
   "source": [
    "## Accessing data \n",
    "### Using the index label"
   ]
  },
  {
   "cell_type": "code",
   "execution_count": null,
   "metadata": {},
   "outputs": [],
   "source": [
    "# Accessing a specific element in the Series using the index label\n",
    "my_series['Tripoli']"
   ]
  },
  {
   "cell_type": "code",
   "execution_count": null,
   "metadata": {},
   "outputs": [],
   "source": [
    "# more examples\n",
    "my_series['Tripoli']\n",
    "(series_from_list[0])\n",
    "(series_from_dict[\"b\"])\n"
   ]
  },
  {
   "cell_type": "markdown",
   "metadata": {},
   "source": [
    "Notice 100 is not shown in the second output cell as it was followed by more code. Use `print()` to show multiple outcomes."
   ]
  },
  {
   "cell_type": "markdown",
   "metadata": {},
   "source": [
    "### Based on a condition"
   ]
  },
  {
   "cell_type": "code",
   "execution_count": null,
   "metadata": {},
   "outputs": [],
   "source": [
    "# Filtering elements based on a condition\n",
    "my_series[my_series > 10] #shows all values (with their index), greater than 10."
   ]
  },
  {
   "cell_type": "code",
   "execution_count": null,
   "metadata": {},
   "outputs": [],
   "source": [
    "my_series"
   ]
  },
  {
   "cell_type": "markdown",
   "metadata": {},
   "source": [
    "Notice how my_series remains unchanged. As said, the majority of Pandas methods **produce new objects**, leaving the input data untouched."
   ]
  },
  {
   "cell_type": "markdown",
   "metadata": {},
   "source": [
    "### Attributes\n",
    "A Series object has several attributes: index, values, dtype, shape, ndim, size, name..."
   ]
  },
  {
   "cell_type": "code",
   "execution_count": null,
   "metadata": {},
   "outputs": [],
   "source": [
    "#Show the indices of the values of the Series\n",
    "print(my_series.index)\n",
    "\n",
    "#Show the index of the first element from the Series\n",
    "print(my_series.index[0])\n",
    "\n",
    "#Show the values of the series\n",
    "print(my_series.values)\n",
    "\n",
    "#Show the second value of the Series\n",
    "print(my_series.values[1])\n",
    "\n",
    "#Show how many elements the Series contains\n",
    "print(my_series.size)\n",
    "print(my_series.count())\n",
    "\n",
    "print(\"__________________________\")\n",
    "\n",
    "#Show how many times each value occurs in the Series\n",
    "print(my_series.value_counts())\n",
    "\n",
    "#Show the data type of the elements of the Series\n",
    "print(my_series.dtype)\n",
    "\n",
    "#Remove a data entry based on index\n",
    "print(my_series.drop(labels=[\"London\", \"Tripoli\"]))\n"
   ]
  },
  {
   "cell_type": "markdown",
   "metadata": {},
   "source": [
    "Checkout the [API reference](https://pandas.pydata.org/docs/reference/series.html#constructor) for more functionality."
   ]
  },
  {
   "cell_type": "markdown",
   "metadata": {},
   "source": [
    "## Manipulating data \n",
    "Besides accessing data we can also change the data of a Series.\n",
    "### Using the index label"
   ]
  },
  {
   "cell_type": "code",
   "execution_count": null,
   "metadata": {},
   "outputs": [],
   "source": [
    "#Assign a new value to the index London\n",
    "my_series[\"London\"] = 200\n",
    "my_series"
   ]
  },
  {
   "cell_type": "markdown",
   "metadata": {},
   "source": [
    "### Based on a condition"
   ]
  },
  {
   "cell_type": "code",
   "execution_count": null,
   "metadata": {},
   "outputs": [],
   "source": [
    "#Assign 00 to all values equal to 100\n",
    "my_series[my_series==100] = 00\n",
    "my_series"
   ]
  },
  {
   "cell_type": "markdown",
   "metadata": {},
   "source": [
    "### Changing the index\n",
    "Changing the indices of `my_series` to Brussels, Amsterdam and Berlin."
   ]
  },
  {
   "cell_type": "code",
   "execution_count": null,
   "metadata": {},
   "outputs": [],
   "source": [
    "my_series.index = [\"Brussels\", \"Amsterdam\", \"Berlin\"]\n",
    "my_series"
   ]
  },
  {
   "cell_type": "markdown",
   "metadata": {},
   "source": [
    "### 💼 Make exercise 1. train delay part 2\n",
    "### 💼 Make exercise 2. Zoo animals"
   ]
  }
 ],
 "metadata": {
  "kernelspec": {
   "display_name": "Python 3",
   "language": "python",
   "name": "python3"
  },
  "language_info": {
   "codemirror_mode": {
    "name": "ipython",
    "version": 3
   },
   "file_extension": ".py",
   "mimetype": "text/x-python",
   "name": "python",
   "nbconvert_exporter": "python",
   "pygments_lexer": "ipython3",
   "version": "3.12.0"
  }
 },
 "nbformat": 4,
 "nbformat_minor": 2
}
