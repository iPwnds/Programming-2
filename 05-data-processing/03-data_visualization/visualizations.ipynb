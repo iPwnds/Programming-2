{
 "cells": [
  {
   "cell_type": "markdown",
   "metadata": {},
   "source": [
    "# Visualization and plotting using Pandas and Matplotlib"
   ]
  },
  {
   "cell_type": "markdown",
   "metadata": {},
   "source": [
    "Pandas integrates seamlessly with popular visualization libraries like Matplotlib and Seaborn, allowing you to create insightful visualizations directly from your data. You can plot Series data using built-in plotting functions, customize plot aesthetics, and generate complex plots from DataFrame structures, enabling effective communication of insights derived from your analysis."
   ]
  },
  {
   "cell_type": "markdown",
   "metadata": {},
   "source": [
    "First things first: ensure matplotlib is installed using:\n",
    "***pip install matplotlib***"
   ]
  },
  {
   "cell_type": "code",
   "execution_count": null,
   "metadata": {},
   "outputs": [],
   "source": [
    "import matplotlib.pyplot as plt\n",
    "import numpy as np\n",
    "import pandas as pd\n"
   ]
  },
  {
   "cell_type": "markdown",
   "metadata": {},
   "source": [
    "## 1. Matplotlib background information"
   ]
  },
  {
   "cell_type": "markdown",
   "metadata": {},
   "source": [
    "**Matplotlib** graphs your data on **Figures** (e.g., windows, Jupyter widgets, etc.), each of which can contain:\n",
    "* One or more Axes: an area where points can be specified in terms of x-y(-z) coordinates\n",
    "\n",
    "The simplest way of creating a Figure with an Axes is using pyplot.subplots. We can then use Axes.plot to draw some data on the Axes:"
   ]
  },
  {
   "cell_type": "markdown",
   "metadata": {},
   "source": [
    "**Let's create a figure with one axes** \n",
    "\n",
    "As we do not specify any other information or data, the figure is still empty."
   ]
  },
  {
   "cell_type": "code",
   "execution_count": null,
   "metadata": {},
   "outputs": [],
   "source": [
    "# A figure with one axes\n",
    "fig, ax = plt.subplots()"
   ]
  },
  {
   "cell_type": "markdown",
   "metadata": {},
   "source": [
    "**Let's add some data to the plot.**\n",
    "You will see that the axes ticks adapt to the values of the data."
   ]
  },
  {
   "cell_type": "code",
   "execution_count": null,
   "metadata": {},
   "outputs": [],
   "source": [
    "#add data\n",
    "fig, ax = plt.subplots()\n",
    "ax.plot([1,2,3,4],[1,4,2,3])\n",
    "#plt.show()"
   ]
  },
  {
   "cell_type": "markdown",
   "metadata": {},
   "source": [
    "### 1.1 The building blocks of matplotlib"
   ]
  },
  {
   "cell_type": "markdown",
   "metadata": {},
   "source": [
    "#### Figure\n",
    "A figure keeps track of \n",
    "* all the child axes\n",
    "* a group of 'special' Artists (titles, figure legends, colorbars etc.)\n",
    "* nested subfigures\n",
    "\n",
    "Easiest way to create a new Figure is with pyplot:"
   ]
  },
  {
   "cell_type": "code",
   "execution_count": null,
   "metadata": {},
   "outputs": [],
   "source": [
    "fig = plt.figure()  # an empty figure with no Axes"
   ]
  },
  {
   "cell_type": "code",
   "execution_count": null,
   "metadata": {},
   "outputs": [],
   "source": [
    "fig, ax = plt.subplots()  # a figure with a single Axes"
   ]
  },
  {
   "cell_type": "code",
   "execution_count": null,
   "metadata": {},
   "outputs": [],
   "source": [
    "fig, axs = plt.subplots(2, 2)  # a figure with a 2x2 grid of Axes"
   ]
  },
  {
   "cell_type": "code",
   "execution_count": null,
   "metadata": {},
   "outputs": [],
   "source": [
    "# a figure with one axes on the left, and two on the right:\n",
    "fig, axs = plt.subplot_mosaic([['left', 'right_top'],\n",
    "                               ['left', 'right_bottom']])"
   ]
  },
  {
   "cell_type": "markdown",
   "metadata": {},
   "source": [
    "#### Axes\n",
    "An Axes is an Artist attached to a Figure that contains a region for plotting data, and usually includes \n",
    "* two (or three in case of 3D) Axis objects (difference ax**i**s vs ax**e**s!)\n",
    "* a title: `set_title()`\n",
    "* an x-label: `set_xlabel()`\n",
    "* a y-label: `set_ylabel()`"
   ]
  },
  {
   "cell_type": "code",
   "execution_count": null,
   "metadata": {},
   "outputs": [],
   "source": [
    "fig, ax = plt.subplots()\n",
    "ax.plot([1,2,3,4],[1,4,2,3])\n",
    "\n",
    "\n",
    "ax.set_title(\"I'm a title\")"
   ]
  },
  {
   "cell_type": "markdown",
   "metadata": {},
   "source": [
    "#### Axis\n",
    "These objects set the **scale** and **limits**. They generate:\n",
    "* ticks (the marks on the Axis)\n",
    "* ticklabels (strings labeling the ticks)\n",
    "The location of the ticks is determined by a `Locator` object and the ticklabel strings are formated by a `Formatter`."
   ]
  },
  {
   "cell_type": "code",
   "execution_count": null,
   "metadata": {},
   "outputs": [],
   "source": [
    "import matplotlib\n",
    "import matplotlib.ticker\n",
    "fig, ax = plt.subplots()\n",
    "ax.plot([1,2,3,4],[1,4,2,3])\n",
    "ax.set_title(\"I'm a title\")\n",
    "\n",
    "al = matplotlib.ticker.AutoLocator()\n",
    "ax.xaxis.set_major_locator(al)\n",
    "ax.xaxis.set_minor_locator(al)\n",
    "ax.yaxis.set_major_locator(al)\n",
    "ax.yaxis.set_minor_locator(al)\n",
    "\n",
    "ef = matplotlib.ticker.EngFormatter() #format labels in engineering notation\n",
    "ax.xaxis.set_major_formatter(ef)\n",
    "ax.xaxis.set_minor_formatter(ef)\n",
    "ax.yaxis.set_major_formatter(ef)\n",
    "ax.yaxis.set_minor_formatter(ef)"
   ]
  },
  {
   "cell_type": "markdown",
   "metadata": {},
   "source": [
    "#### Artist\n",
    "Basically, everything visible on the Figure is an Artist (even Figure, Axes, and Axis objects). This includes Text objects, Line2D objects, collections objects, Patch objects, etc. When the Figure is rendered, all of the Artists are drawn to the canvas. Most Artists are tied to an Axes; such an Artist cannot be shared by multiple Axes, or moved from one to another. "
   ]
  },
  {
   "cell_type": "markdown",
   "metadata": {},
   "source": [
    "#### Overview of the building blocks"
   ]
  },
  {
   "cell_type": "code",
   "execution_count": null,
   "metadata": {},
   "outputs": [],
   "source": [
    "from PIL import Image\n",
    "img = np.asarray(Image.open(r'matplotlib.png'))\n",
    "imgplot = plt.imshow(img)"
   ]
  },
  {
   "cell_type": "markdown",
   "metadata": {},
   "source": [
    "### 1.2 Coding styles"
   ]
  },
  {
   "cell_type": "markdown",
   "metadata": {},
   "source": [
    "Two ways of using Matplotlib\n",
    "* An **explicit** \"Axes\" interface that uses methods on a Figure or Axes object to create other Artists, and build a visualization step by step. This has also been called an \"object-oriented\" interface.\n",
    "    - Building visualizations step by step\n",
    "    - When adding visualizations, it should be clear to which Figure.\n",
    "    - Used above\n",
    "* An **implicit** \"pyplot\" interface that keeps track of the last Figure and Axes created, and adds Artists to the object it thinks the user wants. Use pyplot functions for plotting.\n",
    "    - The pyplot module shadows most of the Axes plotting methods to give the equivalent of the above, where the creation of the Figure and Axes is done for the user\n",
    "    - Convenient for interactive work or simple scripts\n",
    "    - `gcf` to reference the current Figure\n",
    "    - `gca`to reference the current Axes.\n",
    "    - It 'remembers' the last Figure and Axes."
   ]
  },
  {
   "cell_type": "markdown",
   "metadata": {},
   "source": [
    "##### Explicit example"
   ]
  },
  {
   "cell_type": "code",
   "execution_count": null,
   "metadata": {},
   "outputs": [],
   "source": [
    "x = np.linspace(0, 2, 100)  # Sample data.\n",
    "\n",
    "# Note that even in the OO-style, we use `.pyplot.figure` to create the Figure.\n",
    "fig, ax = plt.subplots(figsize=(5, 2.7), layout='constrained')\n",
    "ax.plot(x, x, label='linear')  # Plot some data on the axes.\n",
    "ax.plot(x, x**2, label='quadratic')  # Plot more data on the axes...\n",
    "ax.plot(x, x**3, label='cubic')  # ... and some more.\n",
    "ax.set_xlabel('x label')  # Add an x-label to the axes.\n",
    "ax.set_ylabel('y label')  # Add a y-label to the axes.\n",
    "ax.set_title(\"Simple Plot\")  # Add a title to the axes.\n",
    "ax.legend()  # Add a legend."
   ]
  },
  {
   "cell_type": "markdown",
   "metadata": {},
   "source": [
    "##### Implicit example"
   ]
  },
  {
   "cell_type": "code",
   "execution_count": null,
   "metadata": {},
   "outputs": [],
   "source": [
    "x = np.linspace(0, 2, 100)  # Sample data.\n",
    "\n",
    "plt.figure(figsize=(5, 2.7), layout='constrained')\n",
    "plt.plot(x, x, label='linear')  # Plot some data on the (implicit) axes.\n",
    "plt.plot(x, x**2, label='quadratic')  # etc.\n",
    "plt.plot(x, x**3, label='cubic')\n",
    "plt.xlabel('x label')\n",
    "plt.ylabel('y label')\n",
    "plt.title(\"Simple Plot\")\n",
    "plt.legend()"
   ]
  },
  {
   "cell_type": "markdown",
   "metadata": {},
   "source": [
    "For this course, it mostly suffices to use the implicit method using pyplot. \\\n",
    "\\\n",
    "Check out the [Matplotlib documentation](https://matplotlib.org/stable/) for more functionality. "
   ]
  },
  {
   "cell_type": "markdown",
   "metadata": {},
   "source": [
    "## 2. Plotting with Matplotlib Pyplot"
   ]
  },
  {
   "cell_type": "markdown",
   "metadata": {},
   "source": [
    "Let's first create a dataframe."
   ]
  },
  {
   "cell_type": "code",
   "execution_count": null,
   "metadata": {},
   "outputs": [],
   "source": [
    "# Sample data\n",
    "data = {\n",
    "    'Month': ['Jan', 'Feb', 'Mar', 'Apr', 'May'],\n",
    "    'Sales': [100, 120, 150, 130, 140],\n",
    "    'Expenses': [80, 90, 100, 110, 95]\n",
    "}\n",
    "\n",
    "# Creating a DataFrame\n",
    "df = pd.DataFrame(data)\n",
    "\n",
    "# Displaying the DataFrame\n",
    "print(\"DataFrame:\")\n",
    "print(df)\n"
   ]
  },
  {
   "cell_type": "markdown",
   "metadata": {},
   "source": [
    "### 2.1 Line graph"
   ]
  },
  {
   "cell_type": "code",
   "execution_count": null,
   "metadata": {},
   "outputs": [],
   "source": [
    "# Create a figure of size (10,6)\n",
    "plt.figure(figsize=(10, 6))\n",
    "\n",
    "plt.show() # We only created the figure (See it as a blank page)"
   ]
  },
  {
   "cell_type": "code",
   "execution_count": null,
   "metadata": {},
   "outputs": [],
   "source": [
    "# Plot the Sales data (y-axis) over time (x-axis), using a blue full line, with rounded markers size 8, width 2, labeled \"Sales\". \n",
    "plt.plot(df['Month'], df['Sales'], marker='o', color='blue', linestyle='-', linewidth=2, markersize=8, label='Sales')\n",
    "\n",
    "# Plot the Expenses data (y-axis) over time (x-axis), using a dotted line, width 2 and squared markers of size 8. Label the graph 'Expenses'.\n",
    "plt.plot(df['Month'], df['Expenses'], marker='s', color='red', linestyle='--', linewidth=2, markersize=8, label='Expenses')\n",
    "\n",
    "# Add a title \"Monthly Sales and Expenses\" to the plot\n",
    "plt.title('Monthly Sales and Expenses')\n",
    "\n",
    "# Provide the label of the x-axis (\"Month\") and y-axis (\"Amount\")\n",
    "plt.xlabel('Month')\n",
    "plt.ylabel('Amount')\n",
    "\n",
    "# Show the legend\n",
    "plt.legend()\n",
    "\n",
    "# Provide a grid for better readability of the values\n",
    "plt.grid(True)\n",
    "\n",
    "# Plot the figure\n",
    "plt.show()"
   ]
  },
  {
   "cell_type": "markdown",
   "metadata": {},
   "source": [
    "##### 💼 Make exercise **1. Counting birds** part 1\n"
   ]
  },
  {
   "cell_type": "markdown",
   "metadata": {},
   "source": [
    "### 2.2 Bar plot"
   ]
  },
  {
   "cell_type": "code",
   "execution_count": null,
   "metadata": {},
   "outputs": [],
   "source": [
    "# Create a figure of size (10,6)\n",
    "plt.figure(figsize=(10, 6))\n",
    "\n",
    "# Create a variable bar_width and set it to 0.35\n",
    "bar_width = 0.35\n",
    "\n",
    "# We create a range based on the number of months in the data\n",
    "index = range(len(df['Month']))\n",
    "\n",
    "# Plot the Sales data, using the index variable as x-axis values, make the bar blue and use the bar_width. Use an appropriate label.\n",
    "plt.bar(index, df['Sales'], bar_width, color='blue', label='Sales')\n",
    "\n",
    "# After creating the first set of bars, we also want to show the Expenses data. \n",
    "# We would like to put data of the same month next to each other. We used the values of 'index' to position the\n",
    "# Sales data on the x-axis. As both bars are of the same width, using the values of 'index + bar_width' to position the red bar, ensures data for the same month is positioned next to each other.\n",
    "\n",
    "# Plot the Expenses data in red \n",
    "plt.bar([i + bar_width for i in index], df['Expenses'], bar_width, color='red', label='Expenses')\n",
    "\n",
    "# Give a title \"Monthly Sales and Expenses (Bar Plot)\" to the plot\n",
    "plt.title('Monthly Sales and Expenses (Bar Plot)')\n",
    "\n",
    "# Set the axis labels to \"Month\" and \"Amount\"\n",
    "plt.xlabel('Month')\n",
    "plt.ylabel('Amount')\n",
    "\n",
    "# After positioning our bars, we want to place the ticks of the x-axis in the middle (so where both bars touch)\n",
    "# The blue bar is positioned at i and the red one at i + bar_width, this means that the middle is positioned at i + bar_width/2\n",
    "plt.xticks([i + bar_width / 2 for i in index], df['Month'])  # Set x-axis ticks\n",
    "\n",
    "# Show the legend\n",
    "plt.legend()  # Show legend\n",
    "\n",
    "# Show the grid lines on the y-axis\n",
    "plt.grid(axis='y')  # Show grid lines on y-axis\n",
    "\n",
    "# Show the plot\n",
    "plt.show()"
   ]
  },
  {
   "cell_type": "markdown",
   "metadata": {},
   "source": [
    "##### 💼Make exercise **1. Counting Birds** part 2\n"
   ]
  },
  {
   "cell_type": "markdown",
   "metadata": {},
   "source": [
    "### 2.3 Stacked bar plot"
   ]
  },
  {
   "cell_type": "code",
   "execution_count": null,
   "metadata": {},
   "outputs": [],
   "source": [
    "# Create a figure of size (10,6)\n",
    "plt.figure(figsize=(10, 6))  # Set figure size\n",
    "\n",
    "# Plot the Sales data using blue bars. Provide a label.\n",
    "plt.bar(df['Month'], df['Sales'], color='blue', label='Sales')\n",
    "\n",
    "# Plot the Expenses data using a red bar on top of the Sales data. Provide a label.\n",
    "plt.bar(df['Month'], df['Expenses'], bottom=df['Sales'], color='red', label='Expenses')\n",
    "\n",
    "# Plot a title \"Monthly Sales and Expenses (Stacked Bar Plot)\"\n",
    "plt.title('Monthly Sales and Expenses (Stacked Bar Plot)')\n",
    "\n",
    "# Provide the right axis labels\n",
    "plt.xlabel('Month')\n",
    "plt.ylabel('Amount')\n",
    "\n",
    "# Show the legend\n",
    "plt.legend()  # Show legend\n",
    "\n",
    "# Show grid lines on y-axis\n",
    "plt.grid(axis='y') \n",
    "\n",
    "# Show the plot\n",
    "plt.show()"
   ]
  },
  {
   "cell_type": "markdown",
   "metadata": {},
   "source": [
    "##### 💼Make exercise **1. Counting Birds** part 3\n"
   ]
  },
  {
   "cell_type": "markdown",
   "metadata": {},
   "source": [
    "### 2.4 Grouped bar plot\n",
    "\n",
    "Below we have sales data of an electronics shop for the first semester. We can use a grouped bar chart to display the amount of sold items per category."
   ]
  },
  {
   "cell_type": "code",
   "execution_count": null,
   "metadata": {},
   "outputs": [],
   "source": [
    "#Create a dataframe\n",
    "sales_data = {\n",
    "    \"Month\": [\"Jan\", \"Feb\", \"Mar\", \"Apr\", \"May\", \"Jun\"],\n",
    "    \"Laptops\": [150, 180, 210, 230, 250, 270],\n",
    "    \"Smartphones\": [200, 220, 250, 270, 300, 320],\n",
    "    \"Tablets\": [100, 130, 160, 170, 180, 190]\n",
    "}\n",
    "\n",
    "electronics = pd.DataFrame(sales_data)\n",
    "electronics"
   ]
  },
  {
   "cell_type": "code",
   "execution_count": null,
   "metadata": {},
   "outputs": [],
   "source": [
    "#Grouped bar plot\n",
    "plt.figure(figsize=(10,6))\n",
    "\n",
    "bar_width = 0.2\n",
    "x = range(len(electronics[\"Month\"]))\n",
    "laptops = plt.bar([i - bar_width for i in x], electronics[\"Laptops\"], bar_width, color='blue', label='Laptops', align=\"center\")\n",
    "smartphones = plt.bar(x, electronics[\"Smartphones\"], bar_width, color='purple', label='Smartphones', align=\"center\")\n",
    "tablets =  plt.bar([i + bar_width for i in x], electronics[\"Tablets\"], bar_width, color='pink', label='Tablets', align=\"center\")\n",
    "\n",
    "#Let's add the values on top of the bars\n",
    "plt.bar_label(laptops)\n",
    "plt.bar_label(smartphones)\n",
    "plt.bar_label(tablets)\n",
    "\n",
    "plt.xticks(x, electronics[\"Month\"])\n",
    "plt.title(\"Electronics sales\")\n",
    "\n",
    "plt.xlabel(\"Month\")\n",
    "plt.ylabel(\"Amount\")\n",
    "plt.legend()\n",
    "plt.show()"
   ]
  },
  {
   "cell_type": "markdown",
   "metadata": {},
   "source": [
    "##### 💼Make exercise **1. Counting Birds** part 4"
   ]
  }
 ],
 "metadata": {
  "kernelspec": {
   "display_name": "Python 3",
   "language": "python",
   "name": "python3"
  },
  "language_info": {
   "codemirror_mode": {
    "name": "ipython",
    "version": 3
   },
   "file_extension": ".py",
   "mimetype": "text/x-python",
   "name": "python",
   "nbconvert_exporter": "python",
   "pygments_lexer": "ipython3",
   "version": "3.12.0"
  }
 },
 "nbformat": 4,
 "nbformat_minor": 2
}
