{
 "cells": [
  {
   "cell_type": "markdown",
   "metadata": {},
   "source": [
    "# Data analysis: Weather\n",
    "In the file `weather_dataset.csv` you find weather data for various cities. It is up to you to clean and analyse this data. Use the provided code fields under the tasks to write down your code. "
   ]
  },
  {
   "cell_type": "markdown",
   "metadata": {},
   "source": [
    "Import the necessary packages."
   ]
  },
  {
   "cell_type": "code",
   "execution_count": null,
   "metadata": {},
   "outputs": [],
   "source": []
  },
  {
   "cell_type": "markdown",
   "metadata": {},
   "source": [
    "* Import the weather dataset into a DataFrame named `df_weather`\n",
    "* Inspect the DataFrame by showing the first 10 rows (do not use slicing for this).\n"
   ]
  },
  {
   "cell_type": "code",
   "execution_count": null,
   "metadata": {},
   "outputs": [],
   "source": [
    "#Import and inspect\n"
   ]
  },
  {
   "cell_type": "markdown",
   "metadata": {},
   "source": [
    "* Change the dates in the DATE column to pandas datetime objects.\n",
    "* Only include the rows with data from 2009\n"
   ]
  },
  {
   "cell_type": "code",
   "execution_count": null,
   "metadata": {},
   "outputs": [],
   "source": [
    "#datetime objects, year 2009"
   ]
  },
  {
   "cell_type": "markdown",
   "metadata": {},
   "source": [
    "* Remove the rows with NaN values."
   ]
  },
  {
   "cell_type": "code",
   "execution_count": null,
   "metadata": {},
   "outputs": [],
   "source": [
    "#NaN"
   ]
  },
  {
   "cell_type": "markdown",
   "metadata": {},
   "source": [
    "* Create 4 different DataFrames, one for each of the following cities: Basel, Oslo, Roma and Maastricht. Name them `df_Basel`, `df_Oslo`, `df_Roma` and `df_Maastricht` respectively.\n",
    "* Each dataframe should include the columns with the dates and months and the columns with the data of the corresponding city. \n",
    "\n"
   ]
  },
  {
   "cell_type": "code",
   "execution_count": null,
   "metadata": {},
   "outputs": [],
   "source": [
    "#New dataframes"
   ]
  },
  {
   "cell_type": "markdown",
   "metadata": {},
   "source": [
    "### Maastricht\n",
    "Plot a figure displaying following information of the temperature measurements over time done in Maastricht:\n",
    "* Temperature in °C is displayed on the y-axis\n",
    "* Mean temperature in orange\n",
    "* Max temperature in red\n",
    "* Min temperature in blue\n",
    "* Display a legend with appropriate labels, indicating which data is shown\n",
    "* Ensure proper axis labels and a title are included\n",
    "* On the x-axis, ensure there are indications for every month, labeled with the abbreviation of the month in English (Jan, Feb, March etc.) "
   ]
  },
  {
   "cell_type": "code",
   "execution_count": null,
   "metadata": {},
   "outputs": [],
   "source": [
    "#Maastricht"
   ]
  },
  {
   "cell_type": "markdown",
   "metadata": {},
   "source": [
    "### Mean temperatures\n",
    "Create a new graph and plot the mean temperatures over time of the cities for which you created seperate dataframes. Temperatures are in degrees Celcius and displayed on the y-axis.\n",
    "* Maastricht in orange\n",
    "* Roma in red\n",
    "* Basel in green\n",
    "* Oslo in blue\n",
    "* Display a legend with appropriate labels so it is clear what data is shown\n",
    "* Ensure proper axis labels and a title are included\n",
    "* On the x-axis, ensure indications for every month, labeled with the abbreviation of the month in English (Jan, Feb, March etc.) \n",
    "* Show a grid "
   ]
  },
  {
   "cell_type": "code",
   "execution_count": null,
   "metadata": {},
   "outputs": [],
   "source": [
    "#Mean temperatures"
   ]
  },
  {
   "cell_type": "markdown",
   "metadata": {},
   "source": [
    "___"
   ]
  },
  {
   "cell_type": "markdown",
   "metadata": {},
   "source": [
    "Check your work thouroughly and ensure you did all the tasks.  \n",
    "There are no tests provided for this data analysis exercise. Ensure you used the right names. "
   ]
  },
  {
   "cell_type": "markdown",
   "metadata": {},
   "source": [
    "___\n"
   ]
  }
 ],
 "metadata": {
  "kernelspec": {
   "display_name": "Python 3",
   "language": "python",
   "name": "python3"
  },
  "language_info": {
   "codemirror_mode": {
    "name": "ipython",
    "version": 3
   },
   "file_extension": ".py",
   "mimetype": "text/x-python",
   "name": "python",
   "nbconvert_exporter": "python",
   "pygments_lexer": "ipython3",
   "version": "3.13.1"
  }
 },
 "nbformat": 4,
 "nbformat_minor": 2
}
