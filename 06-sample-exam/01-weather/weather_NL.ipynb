{
 "cells": [
  {
   "cell_type": "markdown",
   "metadata": {},
   "source": [
    "# Data analyse: Het weer\n",
    "In het bestand `weather_dataset.csv`vind je weergegevens van verschillende steden. Jouw taak is om deze data op te schonen en te analyseren. Gebruik de voorziene code-velden onder de opdrachten om je code in te schrijven."
   ]
  },
  {
   "cell_type": "markdown",
   "metadata": {},
   "source": [
    "Importeer de packages die je nodig hebt."
   ]
  },
  {
   "cell_type": "code",
   "execution_count": null,
   "metadata": {},
   "outputs": [],
   "source": []
  },
  {
   "cell_type": "markdown",
   "metadata": {},
   "source": [
    "* Importeer de weergegevens in een DataFrame met de naam `df_weather`. \n",
    "* Inspecteer het DataFrame door de eerste 10 rijen te tonen (gebruik hiervoor geen slicing)."
   ]
  },
  {
   "cell_type": "code",
   "execution_count": null,
   "metadata": {},
   "outputs": [],
   "source": [
    "#Import and inspect"
   ]
  },
  {
   "cell_type": "markdown",
   "metadata": {},
   "source": [
    "* Verander de data ('datums'/meervoud van datum) in de DATE kolom in pandas datetime objects.\n",
    "* Enkel de rijen met data uit 2009 moeten in het dataframe worden opgenomen.\n"
   ]
  },
  {
   "cell_type": "code",
   "execution_count": null,
   "metadata": {},
   "outputs": [],
   "source": [
    "#datetime objects, year 2009"
   ]
  },
  {
   "cell_type": "markdown",
   "metadata": {},
   "source": [
    "* Verwijder de rijen met NaN-waarden"
   ]
  },
  {
   "cell_type": "code",
   "execution_count": null,
   "metadata": {},
   "outputs": [],
   "source": [
    "#NaN"
   ]
  },
  {
   "cell_type": "markdown",
   "metadata": {},
   "source": [
    "\n",
    "* Maak 4 verschillende DataFrames aan, één voor elk van deze steden: Basel, Oslo, Roma en Maastricht. Geef ze respectievelijk volgende namen: `df_Basel`, `df_Oslo`, `df_Roma` en `df_Maastricht`.\n",
    "* Elk dataframe moet de kolom met de datum en de maand bevatten en al de kolommen met de gegevens van de betreffende stad.\n",
    "\n"
   ]
  },
  {
   "cell_type": "code",
   "execution_count": null,
   "metadata": {},
   "outputs": [],
   "source": [
    "#New dataframes"
   ]
  },
  {
   "cell_type": "markdown",
   "metadata": {},
   "source": [
    "### Maastricht\n",
    "Teken een grafiek met daarop volgende informatie over de temperatuurmetingen in de loop van de tijd in Maastricht:\n",
    "* Temperatuur in °C wordt op de y-as getoond\n",
    "* Gemiddelde temperatuur in het oranje (orange)\n",
    "* Max temperatuur in rood (red)\n",
    "* Min temperatuur in blauw (blue)\n",
    "* Toon ook een legende met gepaste labels die aanduiden welke data er wordt getoond\n",
    "* Zorg voor correcte as-labels en titel\n",
    "* Zorg dat er voor elke maand een markering is op de x-as. Label deze met de afkorting voor de maanden (jan, feb, maart etc. )"
   ]
  },
  {
   "cell_type": "code",
   "execution_count": 1,
   "metadata": {},
   "outputs": [],
   "source": [
    "#Maastricht"
   ]
  },
  {
   "cell_type": "markdown",
   "metadata": {},
   "source": [
    "### Mean temperatures\n",
    "Gemiddelde temperatuur   \n",
    "\n",
    "Maak een nieuwe grafiek met de gemiddelde temperatuur gemeten in de loop van de tijd in de steden waarvoor je aparte dataframes hebt gemaakt. Temperatuur wordt in graden Celcius weergegeven op de y-as.\n",
    "\n",
    "* Maastricht in oranje (orange)\n",
    "* Roma in rood (red)\n",
    "* Basel in groen (green)\n",
    "* Oslo in blauw (blue)\n",
    "* Toon een legende met gepaste labels die duidelijk maken welke gegevens worden getoond\n",
    "* Zorg voor correcte as-labels en titel\n",
    "* Voorzie markeringen voor elke maand op de x-as, gelabeld met de afkorting van de maanden (jan, feb, maart etc.)\n",
    "* Toon een raster (grid)"
   ]
  },
  {
   "cell_type": "code",
   "execution_count": null,
   "metadata": {},
   "outputs": [],
   "source": [
    "#Mean temperatures"
   ]
  },
  {
   "cell_type": "markdown",
   "metadata": {},
   "source": [
    "___"
   ]
  },
  {
   "cell_type": "markdown",
   "metadata": {},
   "source": [
    "Controleer je werk grondig en zorg ervoor dat je alle opdrachten hebt gemaakt.   \n",
    "Er zijn geen testen voorzien voor deze data analyse oefening. Zorg ervoor dat je de juiste namen hebt gebruikt. "
   ]
  },
  {
   "cell_type": "markdown",
   "metadata": {},
   "source": [
    "___\n"
   ]
  }
 ],
 "metadata": {
  "kernelspec": {
   "display_name": "Python 3",
   "language": "python",
   "name": "python3"
  },
  "language_info": {
   "codemirror_mode": {
    "name": "ipython",
    "version": 3
   },
   "file_extension": ".py",
   "mimetype": "text/x-python",
   "name": "python",
   "nbconvert_exporter": "python",
   "pygments_lexer": "ipython3",
   "version": "3.12.0"
  }
 },
 "nbformat": 4,
 "nbformat_minor": 2
}
